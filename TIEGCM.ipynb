{
 "cells": [
  {
   "cell_type": "markdown",
   "metadata": {
    "deletable": true,
    "editable": true
   },
   "source": [
    "# TIEGCM analysis and visualization"
   ]
  },
  {
   "cell_type": "code",
   "execution_count": 1,
   "metadata": {
    "collapsed": false,
    "deletable": true,
    "editable": true
   },
   "outputs": [],
   "source": [
    "%load_ext autoreload\n",
    "%autoreload 2"
   ]
  },
  {
   "cell_type": "code",
   "execution_count": 2,
   "metadata": {
    "collapsed": true,
    "deletable": true,
    "editable": true
   },
   "outputs": [],
   "source": [
    "from netCDF4 import Dataset"
   ]
  },
  {
   "cell_type": "code",
   "execution_count": 3,
   "metadata": {
    "collapsed": true,
    "deletable": true,
    "editable": true
   },
   "outputs": [],
   "source": [
    "from plotly.offline import plot, iplot\n",
    "import plotly.graph_objs as go\n",
    "\n",
    "from plotly.graph_objs import Layout"
   ]
  },
  {
   "cell_type": "code",
   "execution_count": 4,
   "metadata": {
    "collapsed": true,
    "deletable": true,
    "editable": true
   },
   "outputs": [],
   "source": [
    "import plotly"
   ]
  },
  {
   "cell_type": "code",
   "execution_count": 5,
   "metadata": {
    "collapsed": true,
    "deletable": true,
    "editable": true
   },
   "outputs": [],
   "source": [
    "import scipy\n",
    "import numpy as np\n",
    "\n",
    "from scipy.interpolate import griddata, LinearNDInterpolator"
   ]
  },
  {
   "cell_type": "code",
   "execution_count": 6,
   "metadata": {
    "collapsed": true,
    "deletable": true,
    "editable": true
   },
   "outputs": [],
   "source": [
    "import pandas as pd"
   ]
  },
  {
   "cell_type": "code",
   "execution_count": 7,
   "metadata": {
    "collapsed": true,
    "deletable": true,
    "editable": true
   },
   "outputs": [],
   "source": [
    "from util import *"
   ]
  },
  {
   "cell_type": "code",
   "execution_count": 9,
   "metadata": {
    "collapsed": false,
    "deletable": true,
    "editable": true
   },
   "outputs": [
    {
     "data": {
      "text/html": [
       "<script>requirejs.config({paths: { 'plotly': ['https://cdn.plot.ly/plotly-latest.min']},});if(!window.Plotly) {{require(['plotly'],function(plotly) {window.Plotly=plotly;});}}</script>"
      ],
      "text/vnd.plotly.v1+html": [
       "<script>requirejs.config({paths: { 'plotly': ['https://cdn.plot.ly/plotly-latest.min']},});if(!window.Plotly) {{require(['plotly'],function(plotly) {window.Plotly=plotly;});}}</script>"
      ]
     },
     "metadata": {},
     "output_type": "display_data"
    }
   ],
   "source": [
    "plotly.offline.init_notebook_mode(connected=True)"
   ]
  },
  {
   "cell_type": "code",
   "execution_count": 10,
   "metadata": {
    "collapsed": false,
    "deletable": true,
    "editable": true
   },
   "outputs": [],
   "source": [
    "directory = \"sample_data/jasoon_shim_052317_IT_10/out/\""
   ]
  },
  {
   "cell_type": "code",
   "execution_count": 12,
   "metadata": {
    "collapsed": false,
    "deletable": true,
    "editable": true
   },
   "outputs": [
    {
     "name": "stdout",
     "output_type": "stream",
     "text": [
      "p001.nc  s001.nc\r\n"
     ]
    }
   ],
   "source": [
    "ls sample_data/jasoon_shim_052317_IT_10/out/"
   ]
  },
  {
   "cell_type": "code",
   "execution_count": 13,
   "metadata": {
    "collapsed": false,
    "deletable": true,
    "editable": true
   },
   "outputs": [
    {
     "name": "stdout",
     "output_type": "stream",
     "text": [
      "sample_data/jasoon_shim_052317_IT_10/out/p001.nc\n",
      "sample_data/jasoon_shim_052317_IT_10/out/s001.nc\n"
     ]
    }
   ],
   "source": [
    "pfile = directory + 'p001.nc'\n",
    "sfile = directory + 's001.nc'\n",
    "print pfile\n",
    "print sfile"
   ]
  },
  {
   "cell_type": "code",
   "execution_count": 14,
   "metadata": {
    "collapsed": true,
    "deletable": true,
    "editable": true
   },
   "outputs": [],
   "source": [
    "rootgrp = Dataset(sfile, 'r')"
   ]
  },
  {
   "cell_type": "code",
   "execution_count": 15,
   "metadata": {
    "collapsed": false,
    "deletable": true,
    "editable": true
   },
   "outputs": [
    {
     "data": {
      "text/plain": [
       "['0-d', '3-d', '4-d', '1-d', '2-d']"
      ]
     },
     "execution_count": 15,
     "metadata": {},
     "output_type": "execute_result"
    }
   ],
   "source": [
    "dimensional = group_dimensional(rootgrp)\n",
    "dimensional.keys()"
   ]
  },
  {
   "cell_type": "code",
   "execution_count": 16,
   "metadata": {
    "collapsed": false,
    "deletable": true,
    "editable": true,
    "scrolled": true
   },
   "outputs": [
    {
     "data": {
      "text/html": [
       "<div>\n",
       "<table border=\"1\" class=\"dataframe\">\n",
       "  <thead>\n",
       "    <tr style=\"text-align: right;\">\n",
       "      <th></th>\n",
       "      <th>units</th>\n",
       "      <th>long_name</th>\n",
       "      <th>shape</th>\n",
       "      <th>min</th>\n",
       "      <th>max</th>\n",
       "    </tr>\n",
       "  </thead>\n",
       "  <tbody>\n",
       "    <tr>\n",
       "      <th>timestep</th>\n",
       "      <td>seconds</td>\n",
       "      <td>timestep</td>\n",
       "      <td>()</td>\n",
       "      <td>6.000000e+01</td>\n",
       "      <td>6.000000e+01</td>\n",
       "    </tr>\n",
       "    <tr>\n",
       "      <th>p0</th>\n",
       "      <td>millibars</td>\n",
       "      <td>Reference pressure</td>\n",
       "      <td>()</td>\n",
       "      <td>5.000000e-07</td>\n",
       "      <td>5.000000e-07</td>\n",
       "    </tr>\n",
       "    <tr>\n",
       "      <th>p0_model</th>\n",
       "      <td>microbars</td>\n",
       "      <td>Reference pressure (as used by the model)</td>\n",
       "      <td>()</td>\n",
       "      <td>5.000000e-04</td>\n",
       "      <td>5.000000e-04</td>\n",
       "    </tr>\n",
       "    <tr>\n",
       "      <th>grav</th>\n",
       "      <td>cm/s</td>\n",
       "      <td>gravitational acceleration</td>\n",
       "      <td>()</td>\n",
       "      <td>8.700000e+02</td>\n",
       "      <td>8.700000e+02</td>\n",
       "    </tr>\n",
       "    <tr>\n",
       "      <th>LBC</th>\n",
       "      <td>None</td>\n",
       "      <td>Interface level of t,u,v lower boundary condition</td>\n",
       "      <td>()</td>\n",
       "      <td>-7.000000e+00</td>\n",
       "      <td>-7.000000e+00</td>\n",
       "    </tr>\n",
       "  </tbody>\n",
       "</table>\n",
       "</div>"
      ],
      "text/plain": [
       "              units                                          long_name shape  \\\n",
       "timestep    seconds                                           timestep    ()   \n",
       "p0        millibars                                 Reference pressure    ()   \n",
       "p0_model  microbars          Reference pressure (as used by the model)    ()   \n",
       "grav           cm/s                         gravitational acceleration    ()   \n",
       "LBC            None  Interface level of t,u,v lower boundary condition    ()   \n",
       "\n",
       "                   min           max  \n",
       "timestep  6.000000e+01  6.000000e+01  \n",
       "p0        5.000000e-07  5.000000e-07  \n",
       "p0_model  5.000000e-04  5.000000e-04  \n",
       "grav      8.700000e+02  8.700000e+02  \n",
       "LBC      -7.000000e+00 -7.000000e+00  "
      ]
     },
     "execution_count": 16,
     "metadata": {},
     "output_type": "execute_result"
    }
   ],
   "source": [
    "describe(rootgrp, dimensional['0-d'])"
   ]
  },
  {
   "cell_type": "code",
   "execution_count": 17,
   "metadata": {
    "collapsed": false,
    "deletable": true,
    "editable": true
   },
   "outputs": [
    {
     "data": {
      "text/plain": [
       "array([ 0.33333333,  0.66666667,  1.        ,  1.33333333,  1.66666667,\n",
       "        2.        ,  2.33333333,  2.66666667,  3.        ,  3.33333333,\n",
       "        3.66666667,  4.        ,  4.33333333,  4.66666667,  5.        ,\n",
       "        5.33333333,  5.66666667,  6.        ,  6.33333333,  6.66666667,\n",
       "        7.        ,  7.33333333,  7.66666667,  8.        ])"
      ]
     },
     "execution_count": 17,
     "metadata": {},
     "output_type": "execute_result"
    }
   ],
   "source": [
    "np.array(rootgrp.variables['ut'])"
   ]
  },
  {
   "cell_type": "code",
   "execution_count": 18,
   "metadata": {
    "collapsed": false,
    "deletable": true,
    "editable": true
   },
   "outputs": [
    {
     "data": {
      "text/plain": [
       "array([275, 275, 275, 275, 275, 275, 275, 275, 275, 275, 275, 275, 275,\n",
       "       275, 275, 275, 275, 275, 275, 275, 275, 275, 275, 275], dtype=int32)"
      ]
     },
     "execution_count": 18,
     "metadata": {},
     "output_type": "execute_result"
    }
   ],
   "source": [
    "np.array(rootgrp.variables['day'])"
   ]
  },
  {
   "cell_type": "code",
   "execution_count": 19,
   "metadata": {
    "collapsed": false,
    "deletable": true,
    "editable": true
   },
   "outputs": [
    {
     "data": {
      "text/html": [
       "<div>\n",
       "<table border=\"1\" class=\"dataframe\">\n",
       "  <thead>\n",
       "    <tr style=\"text-align: right;\">\n",
       "      <th></th>\n",
       "      <th>units</th>\n",
       "      <th>long_name</th>\n",
       "      <th>shape</th>\n",
       "      <th>min</th>\n",
       "      <th>max</th>\n",
       "    </tr>\n",
       "  </thead>\n",
       "  <tbody>\n",
       "    <tr>\n",
       "      <th>time</th>\n",
       "      <td>minutes since 2012-10-1 0:0:0</td>\n",
       "      <td>time</td>\n",
       "      <td>(24,)</td>\n",
       "      <td>2.000000e+01</td>\n",
       "      <td>4.800000e+02</td>\n",
       "    </tr>\n",
       "    <tr>\n",
       "      <th>lon</th>\n",
       "      <td>degrees_east</td>\n",
       "      <td>geographic longitude (-west, +east)</td>\n",
       "      <td>(72,)</td>\n",
       "      <td>-1.800000e+02</td>\n",
       "      <td>1.750000e+02</td>\n",
       "    </tr>\n",
       "    <tr>\n",
       "      <th>lat</th>\n",
       "      <td>degrees_north</td>\n",
       "      <td>geographic latitude (-south, +north)</td>\n",
       "      <td>(36,)</td>\n",
       "      <td>-8.750000e+01</td>\n",
       "      <td>8.750000e+01</td>\n",
       "    </tr>\n",
       "    <tr>\n",
       "      <th>lev</th>\n",
       "      <td></td>\n",
       "      <td>midpoint levels</td>\n",
       "      <td>(29,)</td>\n",
       "      <td>-6.750000e+00</td>\n",
       "      <td>7.250000e+00</td>\n",
       "    </tr>\n",
       "    <tr>\n",
       "      <th>ilev</th>\n",
       "      <td></td>\n",
       "      <td>interface levels</td>\n",
       "      <td>(29,)</td>\n",
       "      <td>-7.000000e+00</td>\n",
       "      <td>7.000000e+00</td>\n",
       "    </tr>\n",
       "    <tr>\n",
       "      <th>mlon</th>\n",
       "      <td>degrees_east</td>\n",
       "      <td>magnetic longitude (-west, +east)</td>\n",
       "      <td>(81,)</td>\n",
       "      <td>-1.800000e+02</td>\n",
       "      <td>1.800000e+02</td>\n",
       "    </tr>\n",
       "    <tr>\n",
       "      <th>mlat</th>\n",
       "      <td>degrees_north</td>\n",
       "      <td>magnetic latitude (-south, +north)</td>\n",
       "      <td>(97,)</td>\n",
       "      <td>-9.000000e+01</td>\n",
       "      <td>9.000000e+01</td>\n",
       "    </tr>\n",
       "    <tr>\n",
       "      <th>mlev</th>\n",
       "      <td></td>\n",
       "      <td>magnetic midpoint levels</td>\n",
       "      <td>(32,)</td>\n",
       "      <td>-8.250000e+00</td>\n",
       "      <td>7.250000e+00</td>\n",
       "    </tr>\n",
       "    <tr>\n",
       "      <th>imlev</th>\n",
       "      <td></td>\n",
       "      <td>magnetic interface levels</td>\n",
       "      <td>(32,)</td>\n",
       "      <td>-8.500000e+00</td>\n",
       "      <td>7.000000e+00</td>\n",
       "    </tr>\n",
       "    <tr>\n",
       "      <th>year</th>\n",
       "      <td>None</td>\n",
       "      <td>calendar year</td>\n",
       "      <td>(24,)</td>\n",
       "      <td>2.012000e+03</td>\n",
       "      <td>2.012000e+03</td>\n",
       "    </tr>\n",
       "    <tr>\n",
       "      <th>day</th>\n",
       "      <td>None</td>\n",
       "      <td>calendar day</td>\n",
       "      <td>(24,)</td>\n",
       "      <td>2.750000e+02</td>\n",
       "      <td>2.750000e+02</td>\n",
       "    </tr>\n",
       "    <tr>\n",
       "      <th>calendar_advance</th>\n",
       "      <td>None</td>\n",
       "      <td>calendar advance flag (1 if advancing calendar...</td>\n",
       "      <td>(24,)</td>\n",
       "      <td>1.000000e+00</td>\n",
       "      <td>1.000000e+00</td>\n",
       "    </tr>\n",
       "    <tr>\n",
       "      <th>iter</th>\n",
       "      <td>None</td>\n",
       "      <td>number of time steps from model time 0,0,0</td>\n",
       "      <td>(24,)</td>\n",
       "      <td>3.960200e+05</td>\n",
       "      <td>3.964800e+05</td>\n",
       "    </tr>\n",
       "    <tr>\n",
       "      <th>ntask_mpi</th>\n",
       "      <td>None</td>\n",
       "      <td>Number of MPI tasks</td>\n",
       "      <td>(24,)</td>\n",
       "      <td>6.400000e+01</td>\n",
       "      <td>6.400000e+01</td>\n",
       "    </tr>\n",
       "    <tr>\n",
       "      <th>coupled_cmit</th>\n",
       "      <td>None</td>\n",
       "      <td>1 if coupled with CISM/CMIT, 0 otherwise</td>\n",
       "      <td>(24,)</td>\n",
       "      <td>0.000000e+00</td>\n",
       "      <td>0.000000e+00</td>\n",
       "    </tr>\n",
       "    <tr>\n",
       "      <th>ut</th>\n",
       "      <td>hours</td>\n",
       "      <td>universal time (from model time hour and minute)</td>\n",
       "      <td>(24,)</td>\n",
       "      <td>3.333333e-01</td>\n",
       "      <td>8.000000e+00</td>\n",
       "    </tr>\n",
       "    <tr>\n",
       "      <th>f107d</th>\n",
       "      <td>1.e-22 W/m2/Hz</td>\n",
       "      <td>Daily 10.7 cm solar flux</td>\n",
       "      <td>(24,)</td>\n",
       "      <td>1.298603e+02</td>\n",
       "      <td>1.325850e+02</td>\n",
       "    </tr>\n",
       "    <tr>\n",
       "      <th>f107a</th>\n",
       "      <td>1.e-22 W/m2/Hz</td>\n",
       "      <td>81-day average 10.7 cm solar flux</td>\n",
       "      <td>(24,)</td>\n",
       "      <td>1.191904e+02</td>\n",
       "      <td>1.192891e+02</td>\n",
       "    </tr>\n",
       "    <tr>\n",
       "      <th>hpower</th>\n",
       "      <td>GW</td>\n",
       "      <td>Hemispheric power</td>\n",
       "      <td>(24,)</td>\n",
       "      <td>1.794346e+01</td>\n",
       "      <td>1.125018e+02</td>\n",
       "    </tr>\n",
       "    <tr>\n",
       "      <th>ctpoten</th>\n",
       "      <td>kV</td>\n",
       "      <td>Cross-tail potential</td>\n",
       "      <td>(24,)</td>\n",
       "      <td>7.606373e+01</td>\n",
       "      <td>1.386415e+02</td>\n",
       "    </tr>\n",
       "    <tr>\n",
       "      <th>Kp</th>\n",
       "      <td>None</td>\n",
       "      <td>Kp index</td>\n",
       "      <td>(24,)</td>\n",
       "      <td>3.416667e+00</td>\n",
       "      <td>6.677778e+00</td>\n",
       "    </tr>\n",
       "    <tr>\n",
       "      <th>bximf</th>\n",
       "      <td>nT</td>\n",
       "      <td>BX component of IMF</td>\n",
       "      <td>(24,)</td>\n",
       "      <td>1.709375e-01</td>\n",
       "      <td>7.478125e+00</td>\n",
       "    </tr>\n",
       "    <tr>\n",
       "      <th>byimf</th>\n",
       "      <td>nT</td>\n",
       "      <td>BY component of IMF</td>\n",
       "      <td>(24,)</td>\n",
       "      <td>-4.840908e-01</td>\n",
       "      <td>1.414769e+01</td>\n",
       "    </tr>\n",
       "    <tr>\n",
       "      <th>bzimf</th>\n",
       "      <td>nT</td>\n",
       "      <td>BZ component of IMF</td>\n",
       "      <td>(24,)</td>\n",
       "      <td>-1.259680e+01</td>\n",
       "      <td>3.083826e+00</td>\n",
       "    </tr>\n",
       "    <tr>\n",
       "      <th>swvel</th>\n",
       "      <td>km/s</td>\n",
       "      <td>Solar wind velocity</td>\n",
       "      <td>(24,)</td>\n",
       "      <td>3.794346e+02</td>\n",
       "      <td>4.166166e+02</td>\n",
       "    </tr>\n",
       "    <tr>\n",
       "      <th>swden</th>\n",
       "      <td>cm3</td>\n",
       "      <td>Solar wind density</td>\n",
       "      <td>(24,)</td>\n",
       "      <td>7.127000e+00</td>\n",
       "      <td>1.785622e+01</td>\n",
       "    </tr>\n",
       "    <tr>\n",
       "      <th>al</th>\n",
       "      <td>nT</td>\n",
       "      <td>Lower magnetic auroral activity index</td>\n",
       "      <td>(24,)</td>\n",
       "      <td>1.000000e+36</td>\n",
       "      <td>1.000000e+36</td>\n",
       "    </tr>\n",
       "    <tr>\n",
       "      <th>colfac</th>\n",
       "      <td>None</td>\n",
       "      <td>ion/neutral collision factor</td>\n",
       "      <td>(24,)</td>\n",
       "      <td>1.500000e+00</td>\n",
       "      <td>1.500000e+00</td>\n",
       "    </tr>\n",
       "    <tr>\n",
       "      <th>joulefac</th>\n",
       "      <td>None</td>\n",
       "      <td>joule heating factor</td>\n",
       "      <td>(24,)</td>\n",
       "      <td>1.500000e+00</td>\n",
       "      <td>1.500000e+00</td>\n",
       "    </tr>\n",
       "    <tr>\n",
       "      <th>e1</th>\n",
       "      <td>ergs/cm2/s</td>\n",
       "      <td>Peak energy flux in noon sector of the aurora</td>\n",
       "      <td>(24,)</td>\n",
       "      <td>1.591267e+00</td>\n",
       "      <td>3.970024e+00</td>\n",
       "    </tr>\n",
       "    <tr>\n",
       "      <th>e2</th>\n",
       "      <td>ergs/cm2/s</td>\n",
       "      <td>Peak energy flux in midnight sector of the aurora</td>\n",
       "      <td>(24,)</td>\n",
       "      <td>2.973781e+00</td>\n",
       "      <td>1.337520e+01</td>\n",
       "    </tr>\n",
       "    <tr>\n",
       "      <th>h1</th>\n",
       "      <td>degrees</td>\n",
       "      <td>Gaussian half-width of the noon auroral oval</td>\n",
       "      <td>(24,)</td>\n",
       "      <td>2.350000e+00</td>\n",
       "      <td>2.350000e+00</td>\n",
       "    </tr>\n",
       "    <tr>\n",
       "      <th>h2</th>\n",
       "      <td>degrees</td>\n",
       "      <td>Gaussian half-width of the midnight auroral oval</td>\n",
       "      <td>(24,)</td>\n",
       "      <td>3.504435e+00</td>\n",
       "      <td>5.312546e+00</td>\n",
       "    </tr>\n",
       "    <tr>\n",
       "      <th>alfac</th>\n",
       "      <td>keV</td>\n",
       "      <td>Characteristic Maxwellian energy of polar cusp...</td>\n",
       "      <td>(24,)</td>\n",
       "      <td>1.000000e-01</td>\n",
       "      <td>1.000000e-01</td>\n",
       "    </tr>\n",
       "    <tr>\n",
       "      <th>ec</th>\n",
       "      <td>ergs/cm**2/s</td>\n",
       "      <td>Column energy input of polar cusp electrons</td>\n",
       "      <td>(24,)</td>\n",
       "      <td>7.204424e-02</td>\n",
       "      <td>1.987525e-01</td>\n",
       "    </tr>\n",
       "    <tr>\n",
       "      <th>alfad</th>\n",
       "      <td>keV</td>\n",
       "      <td>Characteristic Maxwellian energy of drizzle el...</td>\n",
       "      <td>(24,)</td>\n",
       "      <td>5.000000e-01</td>\n",
       "      <td>5.000000e-01</td>\n",
       "    </tr>\n",
       "    <tr>\n",
       "      <th>ed</th>\n",
       "      <td>ergs/cm**2/s</td>\n",
       "      <td>Column energy input of drizzle electrons</td>\n",
       "      <td>(24,)</td>\n",
       "      <td>1.196608e-02</td>\n",
       "      <td>6.870110e-02</td>\n",
       "    </tr>\n",
       "    <tr>\n",
       "      <th>crit1</th>\n",
       "      <td>deg</td>\n",
       "      <td>critical cross-over latitude 1</td>\n",
       "      <td>(24,)</td>\n",
       "      <td>1.879271e+01</td>\n",
       "      <td>2.199040e+01</td>\n",
       "    </tr>\n",
       "    <tr>\n",
       "      <th>crit2</th>\n",
       "      <td>deg</td>\n",
       "      <td>critical cross-over latitude 2</td>\n",
       "      <td>(24,)</td>\n",
       "      <td>3.379271e+01</td>\n",
       "      <td>3.699040e+01</td>\n",
       "    </tr>\n",
       "  </tbody>\n",
       "</table>\n",
       "</div>"
      ],
      "text/plain": [
       "                                          units  \\\n",
       "time              minutes since 2012-10-1 0:0:0   \n",
       "lon                                degrees_east   \n",
       "lat                               degrees_north   \n",
       "lev                                               \n",
       "ilev                                              \n",
       "mlon                               degrees_east   \n",
       "mlat                              degrees_north   \n",
       "mlev                                              \n",
       "imlev                                             \n",
       "year                                       None   \n",
       "day                                        None   \n",
       "calendar_advance                           None   \n",
       "iter                                       None   \n",
       "ntask_mpi                                  None   \n",
       "coupled_cmit                               None   \n",
       "ut                                        hours   \n",
       "f107d                            1.e-22 W/m2/Hz   \n",
       "f107a                            1.e-22 W/m2/Hz   \n",
       "hpower                                       GW   \n",
       "ctpoten                                      kV   \n",
       "Kp                                         None   \n",
       "bximf                                        nT   \n",
       "byimf                                        nT   \n",
       "bzimf                                        nT   \n",
       "swvel                                      km/s   \n",
       "swden                                       cm3   \n",
       "al                                           nT   \n",
       "colfac                                     None   \n",
       "joulefac                                   None   \n",
       "e1                                   ergs/cm2/s   \n",
       "e2                                   ergs/cm2/s   \n",
       "h1                                      degrees   \n",
       "h2                                      degrees   \n",
       "alfac                                       keV   \n",
       "ec                                 ergs/cm**2/s   \n",
       "alfad                                       keV   \n",
       "ed                                 ergs/cm**2/s   \n",
       "crit1                                       deg   \n",
       "crit2                                       deg   \n",
       "\n",
       "                                                          long_name  shape  \\\n",
       "time                                                           time  (24,)   \n",
       "lon                             geographic longitude (-west, +east)  (72,)   \n",
       "lat                            geographic latitude (-south, +north)  (36,)   \n",
       "lev                                                 midpoint levels  (29,)   \n",
       "ilev                                               interface levels  (29,)   \n",
       "mlon                              magnetic longitude (-west, +east)  (81,)   \n",
       "mlat                             magnetic latitude (-south, +north)  (97,)   \n",
       "mlev                                       magnetic midpoint levels  (32,)   \n",
       "imlev                                     magnetic interface levels  (32,)   \n",
       "year                                                  calendar year  (24,)   \n",
       "day                                                    calendar day  (24,)   \n",
       "calendar_advance  calendar advance flag (1 if advancing calendar...  (24,)   \n",
       "iter                     number of time steps from model time 0,0,0  (24,)   \n",
       "ntask_mpi                                       Number of MPI tasks  (24,)   \n",
       "coupled_cmit               1 if coupled with CISM/CMIT, 0 otherwise  (24,)   \n",
       "ut                 universal time (from model time hour and minute)  (24,)   \n",
       "f107d                                      Daily 10.7 cm solar flux  (24,)   \n",
       "f107a                             81-day average 10.7 cm solar flux  (24,)   \n",
       "hpower                                            Hemispheric power  (24,)   \n",
       "ctpoten                                        Cross-tail potential  (24,)   \n",
       "Kp                                                         Kp index  (24,)   \n",
       "bximf                                           BX component of IMF  (24,)   \n",
       "byimf                                           BY component of IMF  (24,)   \n",
       "bzimf                                           BZ component of IMF  (24,)   \n",
       "swvel                                           Solar wind velocity  (24,)   \n",
       "swden                                            Solar wind density  (24,)   \n",
       "al                            Lower magnetic auroral activity index  (24,)   \n",
       "colfac                                 ion/neutral collision factor  (24,)   \n",
       "joulefac                                       joule heating factor  (24,)   \n",
       "e1                    Peak energy flux in noon sector of the aurora  (24,)   \n",
       "e2                Peak energy flux in midnight sector of the aurora  (24,)   \n",
       "h1                     Gaussian half-width of the noon auroral oval  (24,)   \n",
       "h2                 Gaussian half-width of the midnight auroral oval  (24,)   \n",
       "alfac             Characteristic Maxwellian energy of polar cusp...  (24,)   \n",
       "ec                      Column energy input of polar cusp electrons  (24,)   \n",
       "alfad             Characteristic Maxwellian energy of drizzle el...  (24,)   \n",
       "ed                         Column energy input of drizzle electrons  (24,)   \n",
       "crit1                                critical cross-over latitude 1  (24,)   \n",
       "crit2                                critical cross-over latitude 2  (24,)   \n",
       "\n",
       "                           min           max  \n",
       "time              2.000000e+01  4.800000e+02  \n",
       "lon              -1.800000e+02  1.750000e+02  \n",
       "lat              -8.750000e+01  8.750000e+01  \n",
       "lev              -6.750000e+00  7.250000e+00  \n",
       "ilev             -7.000000e+00  7.000000e+00  \n",
       "mlon             -1.800000e+02  1.800000e+02  \n",
       "mlat             -9.000000e+01  9.000000e+01  \n",
       "mlev             -8.250000e+00  7.250000e+00  \n",
       "imlev            -8.500000e+00  7.000000e+00  \n",
       "year              2.012000e+03  2.012000e+03  \n",
       "day               2.750000e+02  2.750000e+02  \n",
       "calendar_advance  1.000000e+00  1.000000e+00  \n",
       "iter              3.960200e+05  3.964800e+05  \n",
       "ntask_mpi         6.400000e+01  6.400000e+01  \n",
       "coupled_cmit      0.000000e+00  0.000000e+00  \n",
       "ut                3.333333e-01  8.000000e+00  \n",
       "f107d             1.298603e+02  1.325850e+02  \n",
       "f107a             1.191904e+02  1.192891e+02  \n",
       "hpower            1.794346e+01  1.125018e+02  \n",
       "ctpoten           7.606373e+01  1.386415e+02  \n",
       "Kp                3.416667e+00  6.677778e+00  \n",
       "bximf             1.709375e-01  7.478125e+00  \n",
       "byimf            -4.840908e-01  1.414769e+01  \n",
       "bzimf            -1.259680e+01  3.083826e+00  \n",
       "swvel             3.794346e+02  4.166166e+02  \n",
       "swden             7.127000e+00  1.785622e+01  \n",
       "al                1.000000e+36  1.000000e+36  \n",
       "colfac            1.500000e+00  1.500000e+00  \n",
       "joulefac          1.500000e+00  1.500000e+00  \n",
       "e1                1.591267e+00  3.970024e+00  \n",
       "e2                2.973781e+00  1.337520e+01  \n",
       "h1                2.350000e+00  2.350000e+00  \n",
       "h2                3.504435e+00  5.312546e+00  \n",
       "alfac             1.000000e-01  1.000000e-01  \n",
       "ec                7.204424e-02  1.987525e-01  \n",
       "alfad             5.000000e-01  5.000000e-01  \n",
       "ed                1.196608e-02  6.870110e-02  \n",
       "crit1             1.879271e+01  2.199040e+01  \n",
       "crit2             3.379271e+01  3.699040e+01  "
      ]
     },
     "execution_count": 19,
     "metadata": {},
     "output_type": "execute_result"
    }
   ],
   "source": [
    "describe(rootgrp, dimensional['1-d'])"
   ]
  },
  {
   "cell_type": "markdown",
   "metadata": {
    "deletable": true,
    "editable": true
   },
   "source": [
    "Each file represents 8 hours  of simulation time. There are 24 time steps in each file, corresponding to one step every 20 minutes. "
   ]
  },
  {
   "cell_type": "code",
   "execution_count": 20,
   "metadata": {
    "collapsed": false,
    "deletable": true,
    "editable": true
   },
   "outputs": [
    {
     "data": {
      "text/plain": [
       "<type 'netCDF4._netCDF4.Variable'>\n",
       "float64 time(time)\n",
       "    long_name: time\n",
       "    units: minutes since 2012-10-1 0:0:0\n",
       "    initial_year: 2012\n",
       "    initial_day: 275\n",
       "    initial_mtime: [275   0   0]\n",
       "unlimited dimensions: time\n",
       "current shape = (24,)\n",
       "filling off"
      ]
     },
     "execution_count": 20,
     "metadata": {},
     "output_type": "execute_result"
    }
   ],
   "source": [
    "rootgrp.variables['time']"
   ]
  },
  {
   "cell_type": "code",
   "execution_count": 21,
   "metadata": {
    "code_folding": [],
    "collapsed": false,
    "deletable": true,
    "editable": true
   },
   "outputs": [
    {
     "data": {
      "text/html": [
       "<div>\n",
       "<table border=\"1\" class=\"dataframe\">\n",
       "  <thead>\n",
       "    <tr style=\"text-align: right;\">\n",
       "      <th></th>\n",
       "      <th>units</th>\n",
       "      <th>short_name</th>\n",
       "      <th>long_name</th>\n",
       "      <th>shape</th>\n",
       "      <th>formula</th>\n",
       "      <th>min</th>\n",
       "      <th>max</th>\n",
       "    </tr>\n",
       "  </thead>\n",
       "  <tbody>\n",
       "    <tr>\n",
       "      <th>time</th>\n",
       "      <td>minutes since 2012-10-1 0:0:0</td>\n",
       "      <td>None</td>\n",
       "      <td>time</td>\n",
       "      <td>(24,)</td>\n",
       "      <td>None</td>\n",
       "      <td>20.00</td>\n",
       "      <td>480.00</td>\n",
       "    </tr>\n",
       "    <tr>\n",
       "      <th>ilev</th>\n",
       "      <td></td>\n",
       "      <td>ln(p0/p)</td>\n",
       "      <td>interface levels</td>\n",
       "      <td>(29,)</td>\n",
       "      <td>p(k) = p0 * exp(-ilev(k))</td>\n",
       "      <td>-7.00</td>\n",
       "      <td>7.00</td>\n",
       "    </tr>\n",
       "    <tr>\n",
       "      <th>lev</th>\n",
       "      <td></td>\n",
       "      <td>ln(p0/p)</td>\n",
       "      <td>midpoint levels</td>\n",
       "      <td>(29,)</td>\n",
       "      <td>p(k) = p0 * exp(-lev(k))</td>\n",
       "      <td>-6.75</td>\n",
       "      <td>7.25</td>\n",
       "    </tr>\n",
       "    <tr>\n",
       "      <th>lat</th>\n",
       "      <td>degrees_north</td>\n",
       "      <td>None</td>\n",
       "      <td>geographic latitude (-south, +north)</td>\n",
       "      <td>(36,)</td>\n",
       "      <td>None</td>\n",
       "      <td>-87.50</td>\n",
       "      <td>87.50</td>\n",
       "    </tr>\n",
       "    <tr>\n",
       "      <th>lon</th>\n",
       "      <td>degrees_east</td>\n",
       "      <td>None</td>\n",
       "      <td>geographic longitude (-west, +east)</td>\n",
       "      <td>(72,)</td>\n",
       "      <td>None</td>\n",
       "      <td>-180.00</td>\n",
       "      <td>175.00</td>\n",
       "    </tr>\n",
       "  </tbody>\n",
       "</table>\n",
       "</div>"
      ],
      "text/plain": [
       "                              units short_name  \\\n",
       "time  minutes since 2012-10-1 0:0:0       None   \n",
       "ilev                                  ln(p0/p)   \n",
       "lev                                   ln(p0/p)   \n",
       "lat                   degrees_north       None   \n",
       "lon                    degrees_east       None   \n",
       "\n",
       "                                 long_name  shape                    formula  \\\n",
       "time                                  time  (24,)                       None   \n",
       "ilev                      interface levels  (29,)  p(k) = p0 * exp(-ilev(k))   \n",
       "lev                        midpoint levels  (29,)   p(k) = p0 * exp(-lev(k))   \n",
       "lat   geographic latitude (-south, +north)  (36,)                       None   \n",
       "lon    geographic longitude (-west, +east)  (72,)                       None   \n",
       "\n",
       "         min     max  \n",
       "time   20.00  480.00  \n",
       "ilev   -7.00    7.00  \n",
       "lev    -6.75    7.25  \n",
       "lat   -87.50   87.50  \n",
       "lon  -180.00  175.00  "
      ]
     },
     "execution_count": 21,
     "metadata": {},
     "output_type": "execute_result"
    }
   ],
   "source": [
    "describe(rootgrp, \n",
    "         ['time', 'ilev', 'lev','lat', 'lon'], \n",
    "         ['units', 'short_name', 'long_name', 'shape', 'formula'])"
   ]
  },
  {
   "cell_type": "markdown",
   "metadata": {
    "deletable": true,
    "editable": true
   },
   "source": [
    "### 2D variables"
   ]
  },
  {
   "cell_type": "code",
   "execution_count": 55,
   "metadata": {
    "collapsed": false,
    "deletable": true,
    "editable": true
   },
   "outputs": [
    {
     "data": {
      "text/plain": [
       "Timestamp('2012-10-01 00:00:00')"
      ]
     },
     "execution_count": 55,
     "metadata": {},
     "output_type": "execute_result"
    }
   ],
   "source": [
    "def to_date(year, doy):\n",
    "    return pd.to_datetime(str(year) + str(doy),format ='%Y%j')\n",
    "to_date(start_year, start_day)"
   ]
  },
  {
   "cell_type": "code",
   "execution_count": 53,
   "metadata": {
    "collapsed": false,
    "deletable": true,
    "editable": true
   },
   "outputs": [
    {
     "data": {
      "text/plain": [
       "Timedelta('0 days 03:30:00')"
      ]
     },
     "execution_count": 53,
     "metadata": {},
     "output_type": "execute_result"
    }
   ],
   "source": [
    "pd.Timedelta(hours = 3.5)"
   ]
  },
  {
   "cell_type": "code",
   "execution_count": 44,
   "metadata": {
    "collapsed": false,
    "deletable": true,
    "editable": true
   },
   "outputs": [
    {
     "data": {
      "text/plain": [
       "array([2012, 2012], dtype=int32)"
      ]
     },
     "execution_count": 44,
     "metadata": {},
     "output_type": "execute_result"
    }
   ],
   "source": [
    "rootgrp.variables['year'][[0, -1]]"
   ]
  },
  {
   "cell_type": "code",
   "execution_count": 60,
   "metadata": {
    "collapsed": false,
    "deletable": true,
    "editable": true
   },
   "outputs": [
    {
     "data": {
      "text/plain": [
       "(Timestamp('2012-10-01 00:00:00'), Timestamp('2012-10-01 08:00:00'))"
      ]
     },
     "execution_count": 60,
     "metadata": {},
     "output_type": "execute_result"
    }
   ],
   "source": [
    "def get_time_range(self):\n",
    "    start_year = self.rootgrp.variables['year'][0]\n",
    "    start_day = self.rootgrp.variables['day'][0]\n",
    "    end_ut = self.rootgrp.variables['ut'][-1]\n",
    "    start = to_date(start_year, start_day)\n",
    "    end = start + pd.Timedelta(hours = end_ut)\n",
    "    return start, end\n",
    "\n",
    "get_time_range(tiegcm)"
   ]
  },
  {
   "cell_type": "code",
   "execution_count": 22,
   "metadata": {
    "collapsed": false,
    "deletable": true,
    "editable": true
   },
   "outputs": [
    {
     "data": {
      "text/html": [
       "<div>\n",
       "<table border=\"1\" class=\"dataframe\">\n",
       "  <thead>\n",
       "    <tr style=\"text-align: right;\">\n",
       "      <th></th>\n",
       "      <th>units</th>\n",
       "      <th>long_name</th>\n",
       "      <th>shape</th>\n",
       "      <th>min</th>\n",
       "      <th>max</th>\n",
       "    </tr>\n",
       "  </thead>\n",
       "  <tbody>\n",
       "    <tr>\n",
       "      <th>mtime</th>\n",
       "      <td>day, hour, minute</td>\n",
       "      <td>model times (day, hour, minute)</td>\n",
       "      <td>(24, 3)</td>\n",
       "      <td>0.000000e+00</td>\n",
       "      <td>2.750000e+02</td>\n",
       "    </tr>\n",
       "    <tr>\n",
       "      <th>write_date</th>\n",
       "      <td>None</td>\n",
       "      <td>Date and time each history was written</td>\n",
       "      <td>(24, 24)</td>\n",
       "      <td>NaN</td>\n",
       "      <td>NaN</td>\n",
       "    </tr>\n",
       "    <tr>\n",
       "      <th>dtide</th>\n",
       "      <td>None</td>\n",
       "      <td>amplitude and phase of diurnal tide mode (1,1)</td>\n",
       "      <td>(24, 2)</td>\n",
       "      <td>0.000000e+00</td>\n",
       "      <td>0.000000e+00</td>\n",
       "    </tr>\n",
       "    <tr>\n",
       "      <th>sdtide</th>\n",
       "      <td>None</td>\n",
       "      <td>amplitudes and phases of semi-diurnal tide</td>\n",
       "      <td>(24, 10)</td>\n",
       "      <td>0.000000e+00</td>\n",
       "      <td>0.000000e+00</td>\n",
       "    </tr>\n",
       "    <tr>\n",
       "      <th>ncep_ncfile</th>\n",
       "      <td>None</td>\n",
       "      <td>ncep data file</td>\n",
       "      <td>(24, 1024)</td>\n",
       "      <td>NaN</td>\n",
       "      <td>NaN</td>\n",
       "    </tr>\n",
       "    <tr>\n",
       "      <th>gpi_ncfile</th>\n",
       "      <td>None</td>\n",
       "      <td>GeoPhysical Indices data file</td>\n",
       "      <td>(24, 1024)</td>\n",
       "      <td>NaN</td>\n",
       "      <td>NaN</td>\n",
       "    </tr>\n",
       "    <tr>\n",
       "      <th>saber_ncfile</th>\n",
       "      <td>None</td>\n",
       "      <td>SABER lbc data file</td>\n",
       "      <td>(24, 1024)</td>\n",
       "      <td>NaN</td>\n",
       "      <td>NaN</td>\n",
       "    </tr>\n",
       "    <tr>\n",
       "      <th>tidi_ncfile</th>\n",
       "      <td>None</td>\n",
       "      <td>TIDI lbc data file</td>\n",
       "      <td>(24, 1024)</td>\n",
       "      <td>NaN</td>\n",
       "      <td>NaN</td>\n",
       "    </tr>\n",
       "    <tr>\n",
       "      <th>bgrddata_ncfile</th>\n",
       "      <td>None</td>\n",
       "      <td>background lbc data file</td>\n",
       "      <td>(24, 1024)</td>\n",
       "      <td>NaN</td>\n",
       "      <td>NaN</td>\n",
       "    </tr>\n",
       "    <tr>\n",
       "      <th>ctmt_ncfile</th>\n",
       "      <td>None</td>\n",
       "      <td>CTMT lbc data file</td>\n",
       "      <td>(24, 1024)</td>\n",
       "      <td>NaN</td>\n",
       "      <td>NaN</td>\n",
       "    </tr>\n",
       "    <tr>\n",
       "      <th>see_ncfile</th>\n",
       "      <td>None</td>\n",
       "      <td>TIMED SEE data file</td>\n",
       "      <td>(24, 1024)</td>\n",
       "      <td>NaN</td>\n",
       "      <td>NaN</td>\n",
       "    </tr>\n",
       "    <tr>\n",
       "      <th>imf_ncfile</th>\n",
       "      <td>None</td>\n",
       "      <td>IMF data file</td>\n",
       "      <td>(24, 1024)</td>\n",
       "      <td>NaN</td>\n",
       "      <td>NaN</td>\n",
       "    </tr>\n",
       "    <tr>\n",
       "      <th>gswm_mi_di_ncfile</th>\n",
       "      <td>None</td>\n",
       "      <td>GSWM migrating diurnal tides data file</td>\n",
       "      <td>(24, 1024)</td>\n",
       "      <td>NaN</td>\n",
       "      <td>NaN</td>\n",
       "    </tr>\n",
       "    <tr>\n",
       "      <th>gswm_mi_sdi_ncfile</th>\n",
       "      <td>None</td>\n",
       "      <td>GSWM migrating semi-diurnal tides data file</td>\n",
       "      <td>(24, 1024)</td>\n",
       "      <td>NaN</td>\n",
       "      <td>NaN</td>\n",
       "    </tr>\n",
       "    <tr>\n",
       "      <th>gswm_nm_di_ncfile</th>\n",
       "      <td>None</td>\n",
       "      <td>GSWM non-migrating diurnal tides data file</td>\n",
       "      <td>(24, 1024)</td>\n",
       "      <td>NaN</td>\n",
       "      <td>NaN</td>\n",
       "    </tr>\n",
       "    <tr>\n",
       "      <th>gswm_nm_sdi_ncfile</th>\n",
       "      <td>None</td>\n",
       "      <td>GSWM non-migrating semi-diurnal tides data file</td>\n",
       "      <td>(24, 1024)</td>\n",
       "      <td>NaN</td>\n",
       "      <td>NaN</td>\n",
       "    </tr>\n",
       "    <tr>\n",
       "      <th>mag</th>\n",
       "      <td>degrees</td>\n",
       "      <td>lat,lon coordinates of S,N magnetic poles</td>\n",
       "      <td>(2, 2)</td>\n",
       "      <td>9.969210e+36</td>\n",
       "      <td>9.969210e+36</td>\n",
       "    </tr>\n",
       "  </tbody>\n",
       "</table>\n",
       "</div>"
      ],
      "text/plain": [
       "                                units  \\\n",
       "mtime               day, hour, minute   \n",
       "write_date                       None   \n",
       "dtide                            None   \n",
       "sdtide                           None   \n",
       "ncep_ncfile                      None   \n",
       "gpi_ncfile                       None   \n",
       "saber_ncfile                     None   \n",
       "tidi_ncfile                      None   \n",
       "bgrddata_ncfile                  None   \n",
       "ctmt_ncfile                      None   \n",
       "see_ncfile                       None   \n",
       "imf_ncfile                       None   \n",
       "gswm_mi_di_ncfile                None   \n",
       "gswm_mi_sdi_ncfile               None   \n",
       "gswm_nm_di_ncfile                None   \n",
       "gswm_nm_sdi_ncfile               None   \n",
       "mag                           degrees   \n",
       "\n",
       "                                                          long_name  \\\n",
       "mtime                               model times (day, hour, minute)   \n",
       "write_date                   Date and time each history was written   \n",
       "dtide                amplitude and phase of diurnal tide mode (1,1)   \n",
       "sdtide                   amplitudes and phases of semi-diurnal tide   \n",
       "ncep_ncfile                                          ncep data file   \n",
       "gpi_ncfile                            GeoPhysical Indices data file   \n",
       "saber_ncfile                                    SABER lbc data file   \n",
       "tidi_ncfile                                      TIDI lbc data file   \n",
       "bgrddata_ncfile                            background lbc data file   \n",
       "ctmt_ncfile                                      CTMT lbc data file   \n",
       "see_ncfile                                      TIMED SEE data file   \n",
       "imf_ncfile                                            IMF data file   \n",
       "gswm_mi_di_ncfile            GSWM migrating diurnal tides data file   \n",
       "gswm_mi_sdi_ncfile      GSWM migrating semi-diurnal tides data file   \n",
       "gswm_nm_di_ncfile        GSWM non-migrating diurnal tides data file   \n",
       "gswm_nm_sdi_ncfile  GSWM non-migrating semi-diurnal tides data file   \n",
       "mag                       lat,lon coordinates of S,N magnetic poles   \n",
       "\n",
       "                         shape           min           max  \n",
       "mtime                  (24, 3)  0.000000e+00  2.750000e+02  \n",
       "write_date            (24, 24)           NaN           NaN  \n",
       "dtide                  (24, 2)  0.000000e+00  0.000000e+00  \n",
       "sdtide                (24, 10)  0.000000e+00  0.000000e+00  \n",
       "ncep_ncfile         (24, 1024)           NaN           NaN  \n",
       "gpi_ncfile          (24, 1024)           NaN           NaN  \n",
       "saber_ncfile        (24, 1024)           NaN           NaN  \n",
       "tidi_ncfile         (24, 1024)           NaN           NaN  \n",
       "bgrddata_ncfile     (24, 1024)           NaN           NaN  \n",
       "ctmt_ncfile         (24, 1024)           NaN           NaN  \n",
       "see_ncfile          (24, 1024)           NaN           NaN  \n",
       "imf_ncfile          (24, 1024)           NaN           NaN  \n",
       "gswm_mi_di_ncfile   (24, 1024)           NaN           NaN  \n",
       "gswm_mi_sdi_ncfile  (24, 1024)           NaN           NaN  \n",
       "gswm_nm_di_ncfile   (24, 1024)           NaN           NaN  \n",
       "gswm_nm_sdi_ncfile  (24, 1024)           NaN           NaN  \n",
       "mag                     (2, 2)  9.969210e+36  9.969210e+36  "
      ]
     },
     "execution_count": 22,
     "metadata": {},
     "output_type": "execute_result"
    }
   ],
   "source": [
    "describe(rootgrp, dimensional['2-d'])"
   ]
  },
  {
   "cell_type": "markdown",
   "metadata": {
    "deletable": true,
    "editable": true
   },
   "source": [
    "### 3D shape\n",
    "3d arrays correspond in shape to [time, lat, lon]"
   ]
  },
  {
   "cell_type": "code",
   "execution_count": 23,
   "metadata": {
    "collapsed": false,
    "deletable": true,
    "editable": true
   },
   "outputs": [
    {
     "data": {
      "text/html": [
       "<div>\n",
       "<table border=\"1\" class=\"dataframe\">\n",
       "  <thead>\n",
       "    <tr style=\"text-align: right;\">\n",
       "      <th></th>\n",
       "      <th>units</th>\n",
       "      <th>long_name</th>\n",
       "      <th>shape</th>\n",
       "      <th>min</th>\n",
       "      <th>max</th>\n",
       "    </tr>\n",
       "  </thead>\n",
       "  <tbody>\n",
       "    <tr>\n",
       "      <th>TEC</th>\n",
       "      <td>1/cm2</td>\n",
       "      <td>TEC: Total Electron Content</td>\n",
       "      <td>(24, 36, 72)</td>\n",
       "      <td>1.375009e+12</td>\n",
       "      <td>6.294050e+13</td>\n",
       "    </tr>\n",
       "    <tr>\n",
       "      <th>QJOULE_INTEG</th>\n",
       "      <td>erg/cm2/s</td>\n",
       "      <td>Height-integrated Joule Heating</td>\n",
       "      <td>(24, 36, 72)</td>\n",
       "      <td>4.280629e-04</td>\n",
       "      <td>7.633630e+01</td>\n",
       "    </tr>\n",
       "    <tr>\n",
       "      <th>EFLUX</th>\n",
       "      <td>erg/cm2/s</td>\n",
       "      <td>Aurora Energy Flux</td>\n",
       "      <td>(24, 36, 72)</td>\n",
       "      <td>0.000000e+00</td>\n",
       "      <td>1.332358e+01</td>\n",
       "    </tr>\n",
       "    <tr>\n",
       "      <th>HMF2</th>\n",
       "      <td>km</td>\n",
       "      <td>HMF2: Height of the F2 Layer</td>\n",
       "      <td>(24, 36, 72)</td>\n",
       "      <td>1.236165e+02</td>\n",
       "      <td>5.223236e+02</td>\n",
       "    </tr>\n",
       "    <tr>\n",
       "      <th>NMF2</th>\n",
       "      <td>1/cm3</td>\n",
       "      <td>NMF2: Peak Density of the F2 Layer</td>\n",
       "      <td>(24, 36, 72)</td>\n",
       "      <td>4.939089e+04</td>\n",
       "      <td>2.579142e+06</td>\n",
       "    </tr>\n",
       "    <tr>\n",
       "      <th>TLBC</th>\n",
       "      <td>K</td>\n",
       "      <td>Lower boundary condition of TN</td>\n",
       "      <td>(24, 36, 72)</td>\n",
       "      <td>1.564640e+02</td>\n",
       "      <td>2.036720e+02</td>\n",
       "    </tr>\n",
       "    <tr>\n",
       "      <th>ULBC</th>\n",
       "      <td>cm/s</td>\n",
       "      <td>Lower boundary condition of UN</td>\n",
       "      <td>(24, 36, 72)</td>\n",
       "      <td>-5.879154e+03</td>\n",
       "      <td>4.315232e+03</td>\n",
       "    </tr>\n",
       "    <tr>\n",
       "      <th>VLBC</th>\n",
       "      <td>cm/s</td>\n",
       "      <td>Lower boundary condition of VN</td>\n",
       "      <td>(24, 36, 72)</td>\n",
       "      <td>-7.275964e+03</td>\n",
       "      <td>7.556053e+03</td>\n",
       "    </tr>\n",
       "    <tr>\n",
       "      <th>TLBC_NM</th>\n",
       "      <td>K</td>\n",
       "      <td>Lower boundary condition of TN (TIME N-1)</td>\n",
       "      <td>(24, 36, 72)</td>\n",
       "      <td>1.564839e+02</td>\n",
       "      <td>2.036565e+02</td>\n",
       "    </tr>\n",
       "    <tr>\n",
       "      <th>ULBC_NM</th>\n",
       "      <td>cm/s</td>\n",
       "      <td>Lower boundary condition of UN (TIME N-1)</td>\n",
       "      <td>(24, 36, 72)</td>\n",
       "      <td>-5.873854e+03</td>\n",
       "      <td>4.313503e+03</td>\n",
       "    </tr>\n",
       "    <tr>\n",
       "      <th>VLBC_NM</th>\n",
       "      <td>cm/s</td>\n",
       "      <td>Lower boundary condition of VN (TIME N-1)</td>\n",
       "      <td>(24, 36, 72)</td>\n",
       "      <td>-7.270802e+03</td>\n",
       "      <td>7.550078e+03</td>\n",
       "    </tr>\n",
       "  </tbody>\n",
       "</table>\n",
       "</div>"
      ],
      "text/plain": [
       "                  units                                  long_name  \\\n",
       "TEC               1/cm2                TEC: Total Electron Content   \n",
       "QJOULE_INTEG  erg/cm2/s            Height-integrated Joule Heating   \n",
       "EFLUX         erg/cm2/s                         Aurora Energy Flux   \n",
       "HMF2                 km               HMF2: Height of the F2 Layer   \n",
       "NMF2              1/cm3         NMF2: Peak Density of the F2 Layer   \n",
       "TLBC                  K             Lower boundary condition of TN   \n",
       "ULBC               cm/s             Lower boundary condition of UN   \n",
       "VLBC               cm/s             Lower boundary condition of VN   \n",
       "TLBC_NM               K  Lower boundary condition of TN (TIME N-1)   \n",
       "ULBC_NM            cm/s  Lower boundary condition of UN (TIME N-1)   \n",
       "VLBC_NM            cm/s  Lower boundary condition of VN (TIME N-1)   \n",
       "\n",
       "                     shape           min           max  \n",
       "TEC           (24, 36, 72)  1.375009e+12  6.294050e+13  \n",
       "QJOULE_INTEG  (24, 36, 72)  4.280629e-04  7.633630e+01  \n",
       "EFLUX         (24, 36, 72)  0.000000e+00  1.332358e+01  \n",
       "HMF2          (24, 36, 72)  1.236165e+02  5.223236e+02  \n",
       "NMF2          (24, 36, 72)  4.939089e+04  2.579142e+06  \n",
       "TLBC          (24, 36, 72)  1.564640e+02  2.036720e+02  \n",
       "ULBC          (24, 36, 72) -5.879154e+03  4.315232e+03  \n",
       "VLBC          (24, 36, 72) -7.275964e+03  7.556053e+03  \n",
       "TLBC_NM       (24, 36, 72)  1.564839e+02  2.036565e+02  \n",
       "ULBC_NM       (24, 36, 72) -5.873854e+03  4.313503e+03  \n",
       "VLBC_NM       (24, 36, 72) -7.270802e+03  7.550078e+03  "
      ]
     },
     "execution_count": 23,
     "metadata": {},
     "output_type": "execute_result"
    }
   ],
   "source": [
    "describe(rootgrp, dimensional['3-d'])"
   ]
  },
  {
   "cell_type": "markdown",
   "metadata": {
    "deletable": true,
    "editable": true
   },
   "source": [
    "4-d shape corresponds to [time, ilev, lat, lon]"
   ]
  },
  {
   "cell_type": "code",
   "execution_count": 26,
   "metadata": {
    "collapsed": false,
    "deletable": true,
    "editable": true
   },
   "outputs": [
    {
     "data": {
      "text/html": [
       "<div>\n",
       "<table border=\"1\" class=\"dataframe\">\n",
       "  <thead>\n",
       "    <tr style=\"text-align: right;\">\n",
       "      <th></th>\n",
       "      <th>units</th>\n",
       "      <th>long_name</th>\n",
       "      <th>shape</th>\n",
       "      <th>min</th>\n",
       "      <th>max</th>\n",
       "    </tr>\n",
       "  </thead>\n",
       "  <tbody>\n",
       "    <tr>\n",
       "      <th>TN</th>\n",
       "      <td>K</td>\n",
       "      <td>NEUTRAL TEMPERATURE</td>\n",
       "      <td>(24, 29, 36, 72)</td>\n",
       "      <td>1.475614e+02</td>\n",
       "      <td>1.385325e+03</td>\n",
       "    </tr>\n",
       "    <tr>\n",
       "      <th>UN</th>\n",
       "      <td>cm/s</td>\n",
       "      <td>NEUTRAL ZONAL WIND (+EAST)</td>\n",
       "      <td>(24, 29, 36, 72)</td>\n",
       "      <td>-6.970348e+04</td>\n",
       "      <td>6.350308e+04</td>\n",
       "    </tr>\n",
       "    <tr>\n",
       "      <th>VN</th>\n",
       "      <td>cm/s</td>\n",
       "      <td>NEUTRAL MERIDIONAL WIND (+NORTH)</td>\n",
       "      <td>(24, 29, 36, 72)</td>\n",
       "      <td>-7.142820e+04</td>\n",
       "      <td>6.891355e+04</td>\n",
       "    </tr>\n",
       "    <tr>\n",
       "      <th>O1</th>\n",
       "      <td>mmr</td>\n",
       "      <td>ATOMIC OXYGEN</td>\n",
       "      <td>(24, 29, 36, 72)</td>\n",
       "      <td>1.494940e-03</td>\n",
       "      <td>9.463220e-01</td>\n",
       "    </tr>\n",
       "    <tr>\n",
       "      <th>NO</th>\n",
       "      <td>mmr</td>\n",
       "      <td>NITRIC OXIDE</td>\n",
       "      <td>(24, 29, 36, 72)</td>\n",
       "      <td>3.516701e-08</td>\n",
       "      <td>1.583549e-03</td>\n",
       "    </tr>\n",
       "    <tr>\n",
       "      <th>N4S</th>\n",
       "      <td>mmr</td>\n",
       "      <td>N4S</td>\n",
       "      <td>(24, 29, 36, 72)</td>\n",
       "      <td>1.000000e-12</td>\n",
       "      <td>2.071025e-02</td>\n",
       "    </tr>\n",
       "    <tr>\n",
       "      <th>HE</th>\n",
       "      <td>mmr</td>\n",
       "      <td>HELIUM</td>\n",
       "      <td>(24, 29, 36, 72)</td>\n",
       "      <td>1.148865e-06</td>\n",
       "      <td>5.126053e-01</td>\n",
       "    </tr>\n",
       "    <tr>\n",
       "      <th>NE</th>\n",
       "      <td>cm-3</td>\n",
       "      <td>ELECTRON DENSITY</td>\n",
       "      <td>(24, 29, 36, 72)</td>\n",
       "      <td>7.747815e+02</td>\n",
       "      <td>2.578788e+06</td>\n",
       "    </tr>\n",
       "    <tr>\n",
       "      <th>TE</th>\n",
       "      <td>K</td>\n",
       "      <td>ELECTRON TEMPERATURE</td>\n",
       "      <td>(24, 29, 36, 72)</td>\n",
       "      <td>1.475751e+02</td>\n",
       "      <td>4.280271e+03</td>\n",
       "    </tr>\n",
       "    <tr>\n",
       "      <th>TI</th>\n",
       "      <td>K</td>\n",
       "      <td>ION TEMPERATURE</td>\n",
       "      <td>(24, 29, 36, 72)</td>\n",
       "      <td>1.475666e+02</td>\n",
       "      <td>3.397951e+03</td>\n",
       "    </tr>\n",
       "    <tr>\n",
       "      <th>O2</th>\n",
       "      <td>mmr</td>\n",
       "      <td>MOLECULAR OXYGEN</td>\n",
       "      <td>(24, 29, 36, 72)</td>\n",
       "      <td>9.892697e-07</td>\n",
       "      <td>2.323366e-01</td>\n",
       "    </tr>\n",
       "    <tr>\n",
       "      <th>O2P_ELD</th>\n",
       "      <td>None</td>\n",
       "      <td>None</td>\n",
       "      <td>(24, 29, 36, 72)</td>\n",
       "      <td>0.000000e+00</td>\n",
       "      <td>2.115289e+05</td>\n",
       "    </tr>\n",
       "    <tr>\n",
       "      <th>OMEGA</th>\n",
       "      <td>s-1</td>\n",
       "      <td>VERTICAL MOTION</td>\n",
       "      <td>(24, 29, 36, 72)</td>\n",
       "      <td>-4.225365e-04</td>\n",
       "      <td>4.649109e-04</td>\n",
       "    </tr>\n",
       "    <tr>\n",
       "      <th>POTEN</th>\n",
       "      <td>volts</td>\n",
       "      <td>ELECTRIC POTENTIAL</td>\n",
       "      <td>(24, 29, 36, 72)</td>\n",
       "      <td>-7.621162e+04</td>\n",
       "      <td>6.694512e+04</td>\n",
       "    </tr>\n",
       "    <tr>\n",
       "      <th>UI_ExB</th>\n",
       "      <td>cm/s</td>\n",
       "      <td>UI: Zonal ExB Velocity</td>\n",
       "      <td>(24, 29, 36, 72)</td>\n",
       "      <td>-1.229434e+05</td>\n",
       "      <td>1.148719e+05</td>\n",
       "    </tr>\n",
       "    <tr>\n",
       "      <th>VI_ExB</th>\n",
       "      <td>cm/s</td>\n",
       "      <td>VI: Meridional ExB Velocity</td>\n",
       "      <td>(24, 29, 36, 72)</td>\n",
       "      <td>-1.103654e+05</td>\n",
       "      <td>8.299840e+04</td>\n",
       "    </tr>\n",
       "    <tr>\n",
       "      <th>WI_ExB</th>\n",
       "      <td>cm/s</td>\n",
       "      <td>WI: Vertical ExB Velocity</td>\n",
       "      <td>(24, 29, 36, 72)</td>\n",
       "      <td>-2.758941e+04</td>\n",
       "      <td>2.254067e+04</td>\n",
       "    </tr>\n",
       "    <tr>\n",
       "      <th>OP</th>\n",
       "      <td>cm-3</td>\n",
       "      <td>O+ ION</td>\n",
       "      <td>(24, 29, 36, 72)</td>\n",
       "      <td>0.000000e+00</td>\n",
       "      <td>2.608035e+06</td>\n",
       "    </tr>\n",
       "    <tr>\n",
       "      <th>N2P_ELD</th>\n",
       "      <td>None</td>\n",
       "      <td>None</td>\n",
       "      <td>(24, 29, 36, 72)</td>\n",
       "      <td>-2.242308e-01</td>\n",
       "      <td>1.591780e+04</td>\n",
       "    </tr>\n",
       "    <tr>\n",
       "      <th>NPLUS</th>\n",
       "      <td>None</td>\n",
       "      <td>None</td>\n",
       "      <td>(24, 29, 36, 72)</td>\n",
       "      <td>-1.050485e+02</td>\n",
       "      <td>1.917729e+04</td>\n",
       "    </tr>\n",
       "    <tr>\n",
       "      <th>NOP_ELD</th>\n",
       "      <td>None</td>\n",
       "      <td>None</td>\n",
       "      <td>(24, 29, 36, 72)</td>\n",
       "      <td>-2.301872e-02</td>\n",
       "      <td>2.600645e+05</td>\n",
       "    </tr>\n",
       "    <tr>\n",
       "      <th>SIGMA_PED</th>\n",
       "      <td>S/m</td>\n",
       "      <td>SIGMA_PED: Pedersen Conductivity</td>\n",
       "      <td>(24, 29, 36, 72)</td>\n",
       "      <td>5.591569e-10</td>\n",
       "      <td>9.983176e-04</td>\n",
       "    </tr>\n",
       "    <tr>\n",
       "      <th>SIGMA_HAL</th>\n",
       "      <td>S/m</td>\n",
       "      <td>SIGMA_HAL: Hall Conductivity</td>\n",
       "      <td>(24, 29, 36, 72)</td>\n",
       "      <td>4.412553e-15</td>\n",
       "      <td>1.642709e-03</td>\n",
       "    </tr>\n",
       "    <tr>\n",
       "      <th>DEN</th>\n",
       "      <td>g/cm3</td>\n",
       "      <td>Total Density</td>\n",
       "      <td>(24, 29, 36, 72)</td>\n",
       "      <td>6.802406e-17</td>\n",
       "      <td>1.213197e-09</td>\n",
       "    </tr>\n",
       "    <tr>\n",
       "      <th>QJOULE</th>\n",
       "      <td>erg/g/s</td>\n",
       "      <td>QJOULE: Joule Heating</td>\n",
       "      <td>(24, 29, 36, 72)</td>\n",
       "      <td>1.107774e-04</td>\n",
       "      <td>3.093079e+06</td>\n",
       "    </tr>\n",
       "    <tr>\n",
       "      <th>Z</th>\n",
       "      <td>cm</td>\n",
       "      <td>GEOPOTENTIAL HEIGHT</td>\n",
       "      <td>(24, 29, 36, 72)</td>\n",
       "      <td>9.568750e+06</td>\n",
       "      <td>7.278292e+07</td>\n",
       "    </tr>\n",
       "    <tr>\n",
       "      <th>ZG</th>\n",
       "      <td>cm</td>\n",
       "      <td>Geometric Height ZG</td>\n",
       "      <td>(24, 29, 36, 72)</td>\n",
       "      <td>9.568750e+06</td>\n",
       "      <td>7.236862e+07</td>\n",
       "    </tr>\n",
       "    <tr>\n",
       "      <th>O_N2</th>\n",
       "      <td>none</td>\n",
       "      <td>O/N2 RATIO</td>\n",
       "      <td>(24, 29, 36, 72)</td>\n",
       "      <td>1.951186e-03</td>\n",
       "      <td>8.608996e+05</td>\n",
       "    </tr>\n",
       "    <tr>\n",
       "      <th>N2D_ELD</th>\n",
       "      <td>None</td>\n",
       "      <td>None</td>\n",
       "      <td>(24, 29, 36, 72)</td>\n",
       "      <td>-6.314686e-06</td>\n",
       "      <td>3.691778e-03</td>\n",
       "    </tr>\n",
       "    <tr>\n",
       "      <th>O2N</th>\n",
       "      <td>None</td>\n",
       "      <td>None</td>\n",
       "      <td>(24, 29, 36, 72)</td>\n",
       "      <td>1.672602e+01</td>\n",
       "      <td>4.232090e+12</td>\n",
       "    </tr>\n",
       "    <tr>\n",
       "      <th>N2N</th>\n",
       "      <td>None</td>\n",
       "      <td>None</td>\n",
       "      <td>(24, 29, 36, 72)</td>\n",
       "      <td>1.272531e+00</td>\n",
       "      <td>1.611608e+13</td>\n",
       "    </tr>\n",
       "    <tr>\n",
       "      <th>ZMAG</th>\n",
       "      <td>km</td>\n",
       "      <td>ZMAG from pdynamo</td>\n",
       "      <td>(24, 32, 97, 81)</td>\n",
       "      <td>9.000000e+01</td>\n",
       "      <td>6.806738e+02</td>\n",
       "    </tr>\n",
       "  </tbody>\n",
       "</table>\n",
       "</div>"
      ],
      "text/plain": [
       "             units                         long_name             shape  \\\n",
       "TN               K               NEUTRAL TEMPERATURE  (24, 29, 36, 72)   \n",
       "UN            cm/s        NEUTRAL ZONAL WIND (+EAST)  (24, 29, 36, 72)   \n",
       "VN            cm/s  NEUTRAL MERIDIONAL WIND (+NORTH)  (24, 29, 36, 72)   \n",
       "O1             mmr                     ATOMIC OXYGEN  (24, 29, 36, 72)   \n",
       "NO             mmr                      NITRIC OXIDE  (24, 29, 36, 72)   \n",
       "N4S            mmr                               N4S  (24, 29, 36, 72)   \n",
       "HE             mmr                            HELIUM  (24, 29, 36, 72)   \n",
       "NE            cm-3                  ELECTRON DENSITY  (24, 29, 36, 72)   \n",
       "TE               K              ELECTRON TEMPERATURE  (24, 29, 36, 72)   \n",
       "TI               K                   ION TEMPERATURE  (24, 29, 36, 72)   \n",
       "O2             mmr                  MOLECULAR OXYGEN  (24, 29, 36, 72)   \n",
       "O2P_ELD       None                              None  (24, 29, 36, 72)   \n",
       "OMEGA          s-1                   VERTICAL MOTION  (24, 29, 36, 72)   \n",
       "POTEN        volts                ELECTRIC POTENTIAL  (24, 29, 36, 72)   \n",
       "UI_ExB        cm/s            UI: Zonal ExB Velocity  (24, 29, 36, 72)   \n",
       "VI_ExB        cm/s       VI: Meridional ExB Velocity  (24, 29, 36, 72)   \n",
       "WI_ExB        cm/s         WI: Vertical ExB Velocity  (24, 29, 36, 72)   \n",
       "OP            cm-3                            O+ ION  (24, 29, 36, 72)   \n",
       "N2P_ELD       None                              None  (24, 29, 36, 72)   \n",
       "NPLUS         None                              None  (24, 29, 36, 72)   \n",
       "NOP_ELD       None                              None  (24, 29, 36, 72)   \n",
       "SIGMA_PED      S/m  SIGMA_PED: Pedersen Conductivity  (24, 29, 36, 72)   \n",
       "SIGMA_HAL      S/m      SIGMA_HAL: Hall Conductivity  (24, 29, 36, 72)   \n",
       "DEN          g/cm3                     Total Density  (24, 29, 36, 72)   \n",
       "QJOULE     erg/g/s             QJOULE: Joule Heating  (24, 29, 36, 72)   \n",
       "Z               cm               GEOPOTENTIAL HEIGHT  (24, 29, 36, 72)   \n",
       "ZG              cm               Geometric Height ZG  (24, 29, 36, 72)   \n",
       "O_N2          none                        O/N2 RATIO  (24, 29, 36, 72)   \n",
       "N2D_ELD       None                              None  (24, 29, 36, 72)   \n",
       "O2N           None                              None  (24, 29, 36, 72)   \n",
       "N2N           None                              None  (24, 29, 36, 72)   \n",
       "ZMAG            km                 ZMAG from pdynamo  (24, 32, 97, 81)   \n",
       "\n",
       "                    min           max  \n",
       "TN         1.475614e+02  1.385325e+03  \n",
       "UN        -6.970348e+04  6.350308e+04  \n",
       "VN        -7.142820e+04  6.891355e+04  \n",
       "O1         1.494940e-03  9.463220e-01  \n",
       "NO         3.516701e-08  1.583549e-03  \n",
       "N4S        1.000000e-12  2.071025e-02  \n",
       "HE         1.148865e-06  5.126053e-01  \n",
       "NE         7.747815e+02  2.578788e+06  \n",
       "TE         1.475751e+02  4.280271e+03  \n",
       "TI         1.475666e+02  3.397951e+03  \n",
       "O2         9.892697e-07  2.323366e-01  \n",
       "O2P_ELD    0.000000e+00  2.115289e+05  \n",
       "OMEGA     -4.225365e-04  4.649109e-04  \n",
       "POTEN     -7.621162e+04  6.694512e+04  \n",
       "UI_ExB    -1.229434e+05  1.148719e+05  \n",
       "VI_ExB    -1.103654e+05  8.299840e+04  \n",
       "WI_ExB    -2.758941e+04  2.254067e+04  \n",
       "OP         0.000000e+00  2.608035e+06  \n",
       "N2P_ELD   -2.242308e-01  1.591780e+04  \n",
       "NPLUS     -1.050485e+02  1.917729e+04  \n",
       "NOP_ELD   -2.301872e-02  2.600645e+05  \n",
       "SIGMA_PED  5.591569e-10  9.983176e-04  \n",
       "SIGMA_HAL  4.412553e-15  1.642709e-03  \n",
       "DEN        6.802406e-17  1.213197e-09  \n",
       "QJOULE     1.107774e-04  3.093079e+06  \n",
       "Z          9.568750e+06  7.278292e+07  \n",
       "ZG         9.568750e+06  7.236862e+07  \n",
       "O_N2       1.951186e-03  8.608996e+05  \n",
       "N2D_ELD   -6.314686e-06  3.691778e-03  \n",
       "O2N        1.672602e+01  4.232090e+12  \n",
       "N2N        1.272531e+00  1.611608e+13  \n",
       "ZMAG       9.000000e+01  6.806738e+02  "
      ]
     },
     "execution_count": 26,
     "metadata": {},
     "output_type": "execute_result"
    }
   ],
   "source": [
    "describe(rootgrp, dimensional['4-d'])"
   ]
  },
  {
   "cell_type": "code",
   "execution_count": null,
   "metadata": {
    "collapsed": false,
    "deletable": true,
    "editable": true
   },
   "outputs": [],
   "source": [
    "rootgrp.variables['O2N']"
   ]
  },
  {
   "cell_type": "code",
   "execution_count": null,
   "metadata": {
    "collapsed": true,
    "deletable": true,
    "editable": true
   },
   "outputs": [],
   "source": []
  },
  {
   "cell_type": "code",
   "execution_count": null,
   "metadata": {
    "collapsed": false,
    "deletable": true,
    "editable": true
   },
   "outputs": [],
   "source": [
    "rootgrp.variables['N2N']"
   ]
  },
  {
   "cell_type": "code",
   "execution_count": null,
   "metadata": {
    "collapsed": false,
    "deletable": true,
    "editable": true
   },
   "outputs": [],
   "source": [
    "lat = np.array(rootgrp.variables['lat'])\n",
    "lon = np.array(rootgrp.variables['lon'])\n",
    "ilev = np.array(rootgrp.variables['ilev'])"
   ]
  },
  {
   "cell_type": "code",
   "execution_count": null,
   "metadata": {
    "collapsed": true,
    "deletable": true,
    "editable": true
   },
   "outputs": [],
   "source": [
    "z = np.array(rootgrp.variables['Z'])"
   ]
  },
  {
   "cell_type": "code",
   "execution_count": null,
   "metadata": {
    "collapsed": false,
    "deletable": true,
    "editable": true
   },
   "outputs": [],
   "source": [
    "limits = pd.DataFrame(dict(latitude = [lat.min(), lat.max()], \n",
    "                           longitude = [lon.min(), lon.max()],\n",
    "                          z =[ z.min(), z.max()]), index = ['min', 'max'])\n",
    "limits"
   ]
  },
  {
   "cell_type": "code",
   "execution_count": null,
   "metadata": {
    "collapsed": false,
    "deletable": true,
    "editable": true
   },
   "outputs": [],
   "source": [
    "point = (0, 0, (z.max() + z.min())/2)\n",
    "point"
   ]
  },
  {
   "cell_type": "code",
   "execution_count": null,
   "metadata": {
    "collapsed": false,
    "deletable": true,
    "editable": true
   },
   "outputs": [],
   "source": [
    "from collections import namedtuple"
   ]
  },
  {
   "cell_type": "code",
   "execution_count": null,
   "metadata": {
    "collapsed": false,
    "deletable": true,
    "editable": true
   },
   "outputs": [],
   "source": [
    "Point4D = namedtuple(\"Point4D\", ['time','height', 'latitude','longitude'])\n",
    "Point3D = namedtuple(\"Point3D\", ['height', 'latitude','longitude'])\n",
    "Point2D =  namedtuple(\"Point2D\", ['latitude','longitude'])\n",
    "\n",
    "point = Point3D( height=41175836.0, latitude=87, longitude=170)\n",
    "point2D = Point2D(latitude=87, longitude=170)"
   ]
  },
  {
   "cell_type": "code",
   "execution_count": null,
   "metadata": {
    "collapsed": false,
    "deletable": true,
    "editable": true
   },
   "outputs": [],
   "source": [
    "point"
   ]
  },
  {
   "cell_type": "markdown",
   "metadata": {
    "deletable": true,
    "editable": true
   },
   "source": [
    "# Visualize results from tiegcm\n",
    "\n",
    "## Fixed height interpolation"
   ]
  },
  {
   "cell_type": "code",
   "execution_count": null,
   "metadata": {
    "collapsed": false,
    "deletable": true,
    "editable": true
   },
   "outputs": [],
   "source": [
    "lat, lon = np.meshgrid(tiegcm.lat[1:-1], tiegcm.lon)"
   ]
  },
  {
   "cell_type": "code",
   "execution_count": null,
   "metadata": {
    "collapsed": false,
    "deletable": true,
    "editable": true
   },
   "outputs": [],
   "source": [
    "z_mid = 400*1e3*1e2 #cm"
   ]
  },
  {
   "cell_type": "code",
   "execution_count": null,
   "metadata": {
    "collapsed": false,
    "deletable": true,
    "editable": true
   },
   "outputs": [],
   "source": [
    "points = [Point3D(z_mid, p[0], p[1]) for p in zip(lat.ravel(), lon.ravel())]\n",
    "points[330]\n",
    "print len(points)"
   ]
  },
  {
   "cell_type": "code",
   "execution_count": null,
   "metadata": {
    "collapsed": false,
    "deletable": true,
    "editable": true
   },
   "outputs": [],
   "source": [
    "points[0]"
   ]
  },
  {
   "cell_type": "code",
   "execution_count": null,
   "metadata": {
    "collapsed": true,
    "deletable": true,
    "editable": true
   },
   "outputs": [],
   "source": [
    "variable = 'DEN'"
   ]
  },
  {
   "cell_type": "code",
   "execution_count": null,
   "metadata": {
    "collapsed": false,
    "deletable": true,
    "editable": true
   },
   "outputs": [],
   "source": [
    "ne = [tiegcm.time_interpolate(p, variable, 3.5) for p in points]"
   ]
  },
  {
   "cell_type": "code",
   "execution_count": null,
   "metadata": {
    "collapsed": false,
    "deletable": true,
    "editable": true
   },
   "outputs": [],
   "source": [
    "min(ne), max(ne)"
   ]
  },
  {
   "cell_type": "code",
   "execution_count": null,
   "metadata": {
    "collapsed": false,
    "deletable": true,
    "editable": true
   },
   "outputs": [],
   "source": [
    "phi = lon*np.pi/180\n",
    "phi.min(), phi.max()"
   ]
  },
  {
   "cell_type": "code",
   "execution_count": null,
   "metadata": {
    "collapsed": false,
    "deletable": true,
    "editable": true
   },
   "outputs": [],
   "source": [
    "theta = lat*np.pi/180\n",
    "theta.min(), theta.max()"
   ]
  },
  {
   "cell_type": "code",
   "execution_count": null,
   "metadata": {
    "collapsed": false,
    "deletable": true,
    "editable": true
   },
   "outputs": [],
   "source": [
    "r_E = 637.1e6\n",
    "r = (r_E + z_mid)/r_E\n",
    "r"
   ]
  },
  {
   "cell_type": "code",
   "execution_count": null,
   "metadata": {
    "collapsed": true,
    "deletable": true,
    "editable": true
   },
   "outputs": [],
   "source": [
    "x = r * np.cos(theta) * np.cos(phi)\n",
    "y = r * np.cos(theta) * np.sin(phi)\n",
    "z = r * np.sin(theta)"
   ]
  },
  {
   "cell_type": "code",
   "execution_count": null,
   "metadata": {
    "collapsed": false,
    "deletable": true,
    "editable": true
   },
   "outputs": [],
   "source": [
    "lat.shape"
   ]
  },
  {
   "cell_type": "code",
   "execution_count": null,
   "metadata": {
    "collapsed": false,
    "deletable": true,
    "editable": true
   },
   "outputs": [],
   "source": [
    "np.array(ne).max()"
   ]
  },
  {
   "cell_type": "code",
   "execution_count": null,
   "metadata": {
    "collapsed": false,
    "deletable": true,
    "editable": true
   },
   "outputs": [],
   "source": [
    "trace1 = go.Surface(\n",
    "    x = x,\n",
    "    y = y,\n",
    "    z = z,\n",
    "    surfacecolor = np.array(ne).reshape(lat.shape),\n",
    "    colorbar = dict(title = variable + ' [gm/cm3]')\n",
    ")"
   ]
  },
  {
   "cell_type": "code",
   "execution_count": null,
   "metadata": {
    "collapsed": false,
    "deletable": true,
    "editable": true
   },
   "outputs": [],
   "source": [
    "def to_range(x, start, limit):\n",
    "    result  = start + (x - start) % (limit - start)\n",
    "    print x, '->', [start, limit], '=', result\n",
    "    return result\n",
    "    \n",
    "\n",
    "r = [0, 2.5]\n",
    "to_range(3.0, *r)\n",
    "to_range(-.1, *r)"
   ]
  },
  {
   "cell_type": "code",
   "execution_count": null,
   "metadata": {
    "collapsed": false,
    "deletable": true,
    "editable": true
   },
   "outputs": [],
   "source": [
    "r = [-180, 180]\n",
    "to_range(185, *r)\n",
    "to_range(-185,*r)"
   ]
  },
  {
   "cell_type": "code",
   "execution_count": null,
   "metadata": {
    "collapsed": false,
    "deletable": true,
    "editable": true
   },
   "outputs": [],
   "source": [
    "r = [tiegcm.lon.min(), tiegcm.lon.max()]\n",
    "to_range(180, *r)\n",
    "to_range(170, *r)\n",
    "to_range(176, *r)"
   ]
  },
  {
   "cell_type": "markdown",
   "metadata": {
    "deletable": true,
    "editable": true
   },
   "source": [
    "We need to get the min longitude slice and append it to the variable"
   ]
  },
  {
   "cell_type": "code",
   "execution_count": null,
   "metadata": {
    "collapsed": false,
    "deletable": true,
    "editable": true
   },
   "outputs": [],
   "source": [
    "fig = go.Figure(data=[trace1], layout = go.Layout(title = 'TIEGCM'))\n",
    "\n",
    "iplot(fig)"
   ]
  },
  {
   "cell_type": "markdown",
   "metadata": {
    "deletable": true,
    "editable": true
   },
   "source": [
    "The above interpolation is linear using a deluanay triangulation in lat, lon, z. You should probably be doing the interpolation in R-3 by converting from lat, lon, z, to x,y,z. This means the convex hull rule will provide interpolations all the way to the center of the earth.\n",
    "\n",
    "For time interpolation, you should probably use two time steps at a time?"
   ]
  },
  {
   "cell_type": "markdown",
   "metadata": {
    "deletable": true,
    "editable": true
   },
   "source": [
    "# Fortran interpolator"
   ]
  },
  {
   "cell_type": "markdown",
   "metadata": {
    "deletable": true,
    "editable": true
   },
   "source": [
    "look at  htint.F in in  /ccmcshare/MODELS_at_CCMC/TIEGCM/tgcmproc2.3_f90  and tgcmproc2.9_idl.\n"
   ]
  },
  {
   "cell_type": "markdown",
   "metadata": {
    "deletable": true,
    "editable": true
   },
   "source": [
    "### htint.F header\n",
    "\n",
    "```fortran\n",
    "\n",
    "ccccccccccccccccccccccccccccccccccccccccccccccccccccccccccccccccccccccc\n",
    "c\n",
    "c Routines to do linear or log interpolation of gcm fields to \n",
    "c a linear height scale. Dimensions of fin, fht, and fout vary\n",
    "c depending on routine called.\n",
    "c\n",
    "c glbhtint() is global height interpolator:\n",
    "c   fin and fht (nlon,nzp,nlat) = global input and gcm heights fields\n",
    "c   fout(nlon,nlat,nhts) = global interpolated field returned\n",
    "c\n",
    "c glbhtin() is same as glbhtint except that the intput fields fin and fht\n",
    "c   are dimensioned (nlon,nlat,nzp) rather than (nlon,nzp,nlat). This is\n",
    "c   more convenient for some codes, e.g. \"super_procs\" gcm8proc, gcm9proc,\n",
    "c   etc.\n",
    "c\n",
    "c cuthtint() is height interpolator at some slice of the grid (e.g.,\n",
    "c   along a latitude (idim1 = imx) or longitude (idim1 = jmx)\n",
    "c   fin and fht (idim1,nzp) = input and gcm heights fields (at some cut)\n",
    "c   fout(idim1,nhts) = interpolated field returned\n",
    "c\n",
    "c intloc() interpolates fields at some location (lat,lon gcm grid point)\n",
    "c   \n",
    "c Inputs common to all routines (dimensions vary):\n",
    "c\n",
    "c   fin: the gcm field at constant pressures\n",
    "c   fht: gcm heights at constant pressures\n",
    "c   hts: the height scale at which to do the interpolation\n",
    "c   nhts: number of heights in hts\n",
    "c   logint: if logint > 0, do log (exponential) interpolation, \n",
    "c           otherwise linear  \n",
    "c   spval: if != 0., is special value returned in fout if \n",
    "c          ht(i) > max gcm height, or ht(i) < min gcm height. \n",
    "c          if = 0., extrapolation will be attempted if ht(i) out of range\n",
    "c   iprnt: print stuff out if > 0 (e.g., if spval is used)\n",
    "c\n",
    "c Outputs common to all routines (dimension of fout varies):\n",
    "c\n",
    "c   fout: returned field, interpolated to desired height scale\n",
    "c   ier: non-zero if an error has occurred\n",
    "c\n",
    "c Required routines:\n",
    "c   fminmax(), bracket()\n",
    "c\n",
    "c Ben Foster (ncar/hao)\n",
    "c foster@ncar.ucar.edu\n",
    "c 303-497-1595\n",
    "c\n",
    "ccccccccccccccccccccccccccccccccccccccccccccccccccccccccccccccccccccccc\n",
    "c\n",
    "```\n",
    "### subroutine glbhtint\n",
    "\n",
    "```fortran\n",
    "c\n",
    "c Do linear or log interpolation of fin to constant height surfaces\n",
    "c   in hts(nhts). Interpolated field returned in fout.\n",
    "c\n",
    "c On input:\n",
    "c   fin(nlon,nzp,nlat) = global input field\n",
    "c   fht(nlon,nzp,nlat) = global heights field\n",
    "c   nlon,nzp,nlat = dimensions of fin and fht\n",
    "c   hts(nhts) = heights at which to interpolate\n",
    "c   logint <= 0 -> do linear interpolation,\n",
    "c                  otherwise do exponential (log) interpolation\n",
    "c   spval: If spval is non-zero and hts(k) is not within fht range\n",
    "c          at the current grid point, then fout gets spval at the\n",
    "c          current grid point.\n",
    "c          If spval=0 and hts(k) is out of range, then\n",
    "c          fout will be extrapolated to hts(k)\n",
    "c   iprnt = 1 -> some error msgs will be printed if necessary\n",
    "c\n",
    "c On output:\n",
    "c   fout(nlon,nlat,nhts) = contains interpolated field\n",
    "c   ier = non-zero if an error has occurred\n",
    "c\n",
    "dimension fin(nlon,nzp,nlat),fht(nlon,nzp,nlat),\n",
    "+  fout(nlon,nlat,nhts),hts(nhts)\n",
    "dimension col(nzp)\n",
    "c\n",
    "do j=1,nlat\n",
    "do i=1,nlon\n",
    "          col(:) = fht(i,:,j)\n",
    "          call fminmax(col,nzp,htmin,htmax)\n",
    "          do k=1,nhts\n",
    "            if (hts(k).lt.htmin.or.hts(k).gt.htmax) then\n",
    "              if (spval.ne.0.) then\n",
    "                fout(i,j,k) = spval\n",
    "                goto 100\n",
    "              else\n",
    "                k0 = nzp-1\n",
    "                k1 = nzp\n",
    "              endif\n",
    "            else\n",
    "              call bracket(hts(k),col,nzp,1,k0,k1,ierr)\n",
    "              if (ierr.ne.0) then\n",
    "                if (iprnt.gt.0) write(6,\"('glbhtint: error from',\n",
    "     +            ' bracket: i j=',2i3,' k=',i3,' hts(k)=',f8.2,\n",
    "     +            ' hts col=',/(6f10.3))\") i,j,k,hts(k),col\n",
    "                fout(i,j,k) = spval\n",
    "                goto 100\n",
    "              endif\n",
    "            endif\n",
    "c\n",
    "c Do linear or log interpolation:\n",
    "c\n",
    "            if (logint.gt.0) then\n",
    "              if (fin(i,k1,j).gt.0..and.fin(i,k1,j).ne.spval.and.\n",
    "     +            fin(i,k0,j).gt.0..and.fin(i,k0,j).ne.spval) then\n",
    "                exparg = (alog(fin(i,k1,j) / fin(i,k0,j)) /\n",
    "     +                   (col(k1)-col(k0))) * (hts(k)-col(k0))\n",
    "                fout(i,j,k) = fin(i,k0,j)*exp(exparg)\n",
    "              else\n",
    "                fout(i,j,k) = spval\n",
    "              endif\n",
    "            else\n",
    "              f1 = (hts(k)-col(k0)) / (col(k1)-col(k0))\n",
    "              fout(i,j,k) = f1*fin(i,k1,j) + (1.-f1)*fin(i,k0,j)\n",
    "            endif\n",
    " 100        continue\n",
    "          enddo\n",
    "        enddo\n",
    "      enddo\n",
    "      return\n",
    "      end\n",
    "c\n",
    "```"
   ]
  },
  {
   "cell_type": "markdown",
   "metadata": {
    "deletable": true,
    "editable": true
   },
   "source": [
    "### subroutine fminmax(f,n,rmin,rmax)\n",
    "```fortran\n",
    "!\n",
    "! Return min and max of array f(n), excluding any values == spval:\n",
    "!\n",
    "      use proc, only: spval\n",
    "      implicit none\n",
    "      integer, intent(in)  :: n\n",
    "      real,    intent(in)  :: f(n)\n",
    "      real,    intent(out) :: rmin,rmax\n",
    "      integer i\n",
    "!\n",
    "!     rmin = spval\n",
    "!     rmax = -spval\n",
    "!\n",
    "! On dataproc with 4-byte reals, huge(x) = 0.34028235E+39\n",
    "      rmin = huge(rmin)\n",
    "      rmax = -rmin\n",
    "      do i=1,n\n",
    "        if (f(i).ne.spval.and.f(i).gt.rmax) rmax = f(i)\n",
    "        if (f(i).ne.spval.and.f(i).lt.rmin) rmin = f(i)\n",
    "      enddo\n",
    "      return\n",
    "      end subroutine fminmax\n",
    "```"
   ]
  },
  {
   "cell_type": "markdown",
   "metadata": {
    "deletable": true,
    "editable": true
   },
   "source": [
    "### subroutine bracket(x,xx,nx,inc,n1,n2,ier)\n",
    "```fortran   \n",
    "      implicit none\n",
    "!\n",
    "! Bracket x in xx(nx), returning lower index in n1 and upper index in n2\n",
    "! If inc > 0 -> array increases from bottom to top,\n",
    "! If inc <= 0 -> array increases from top to bottom\n",
    "!\n",
    "      integer,intent(in) :: nx,inc\n",
    "      integer,intent(out) :: n1,n2,ier\n",
    "      real,intent(in) :: x,xx(nx)\n",
    "      integer :: i\n",
    "!\n",
    "! Array increases from bottom to top:\n",
    "      ier = 0\n",
    "      if (inc.gt.0) then\n",
    "        if (x.lt.xx(1)) then\n",
    "          n1 = 1\n",
    "          n2 = 2\n",
    "          ier = 1\n",
    "          return\n",
    "        endif\n",
    "        if (x.gt.xx(nx)) then\n",
    "          n1 = nx-1\n",
    "          n2 = nx\n",
    "          ier = 2\n",
    "          return\n",
    "        endif\n",
    "        do i=1,nx-1\n",
    "          if (x.ge.xx(i).and.x.le.xx(i+1)) then\n",
    "            n1 = i\n",
    "            n2 = i+1\n",
    "            return\n",
    "          endif\n",
    "        enddo\n",
    "!\n",
    "! Array increases from top to bottom:\n",
    "      else\n",
    "        if (x.gt.xx(1)) then\n",
    "          n1 = 1\n",
    "          n2 = 2\n",
    "          ier = 3\n",
    "          return\n",
    "        endif\n",
    "        if (x.lt.xx(nx)) then\n",
    "          n1 = nx-1\n",
    "          n2 = nx\n",
    "          ier = 4\n",
    "          return\n",
    "        endif\n",
    "        do i=1,nx-1\n",
    "          if (x.le.xx(i).and.x.ge.xx(i+1)) then\n",
    "            n1 = i\n",
    "            n2 = i+1\n",
    "            return\n",
    "          endif\n",
    "        enddo\n",
    "      endif\n",
    "      return\n",
    "      end subroutine bracket\n",
    "\n",
    "```"
   ]
  },
  {
   "cell_type": "markdown",
   "metadata": {
    "deletable": true,
    "editable": true
   },
   "source": [
    "# Binding interpolator functions to C++\n",
    "\n",
    "http://pybind11.readthedocs.io/en/master/advanced/pycpp/object.html\n",
    "\n",
    "## Compiling and importing a c++ module into python with cppimport\n",
    "https://github.com/tbenthompson/cppimport\n",
    "\n",
    "All the steps can be performed in python using the following\n",
    "```python\n",
    "import cppimport\n",
    "somecode = cppimport.imp(\"somecode\") #This will pause for a moment to compile the module\n",
    "somecode.square(9)\n",
    "81\n",
    "```\n",
    "\n",
    "## Compiling with cmake\n",
    "CMakeLists.txt:\n",
    "\n",
    "```cmake\n",
    "cmake_minimum_required(VERSION 2.8.12)\n",
    "project(example)\n",
    "set(PYBIND11_CPP_STANDARD -std=c++11)\n",
    "add_subdirectory(pybind11)\n",
    "pybind11_add_module(example example.cpp)\n",
    "\n",
    "```\n",
    "Then compile with these steps\n",
    "```console\n",
    "(sunpy):mkdir build\n",
    "(sunpy):cd build\n",
    "(sunpy):cmake .. -DPYBIND11_PYTHON_VERSION=2.7 -DCMAKE_CXX_COMPILER=clang -DCMAKE_C_COMPILER=clang -DCMAKE_LIBRARY_OUTPUT_DIRECTORY=..\n",
    "(sunpy):make\n",
    "```\n",
    "Then import from python\n",
    "```python\n",
    "import example\n",
    "example.add(3,5)\n",
    "```"
   ]
  },
  {
   "cell_type": "code",
   "execution_count": null,
   "metadata": {
    "collapsed": false,
    "deletable": true,
    "editable": true
   },
   "outputs": [],
   "source": [
    "import ccmc_interpolator"
   ]
  },
  {
   "cell_type": "code",
   "execution_count": null,
   "metadata": {
    "collapsed": true,
    "deletable": true,
    "editable": true
   },
   "outputs": [],
   "source": [
    "from collections import namedtuple"
   ]
  },
  {
   "cell_type": "code",
   "execution_count": null,
   "metadata": {
    "collapsed": false,
    "deletable": true,
    "editable": true
   },
   "outputs": [],
   "source": [
    "tiegcm = ccmc_interpolator.TIEGCM_cpp('sample_data/jasoon_shim_052317_IT_10/out/s001.nc')"
   ]
  },
  {
   "cell_type": "code",
   "execution_count": null,
   "metadata": {
    "collapsed": false,
    "deletable": true,
    "editable": true
   },
   "outputs": [],
   "source": [
    "tiegcm.name"
   ]
  },
  {
   "cell_type": "code",
   "execution_count": null,
   "metadata": {
    "collapsed": true,
    "deletable": true,
    "editable": true
   },
   "outputs": [],
   "source": [
    "z_test = 39005780."
   ]
  },
  {
   "cell_type": "code",
   "execution_count": null,
   "metadata": {
    "collapsed": true,
    "deletable": true,
    "editable": true
   },
   "outputs": [],
   "source": [
    "Point3D = namedtuple(\"Point3D\", ['height', 'latitude','longitude'])\n",
    "Point4D = namedtuple(\"Point4D\", ['height','latitude','longitude', 'time'])"
   ]
  },
  {
   "cell_type": "code",
   "execution_count": null,
   "metadata": {
    "collapsed": false,
    "deletable": true,
    "editable": true
   },
   "outputs": [],
   "source": [
    "point = Point4D(z_test,  87.,  170., 3.5 )"
   ]
  },
  {
   "cell_type": "code",
   "execution_count": null,
   "metadata": {
    "collapsed": false,
    "deletable": true,
    "editable": true
   },
   "outputs": [],
   "source": [
    "tiegcm.interpolate('NE', *point)"
   ]
  },
  {
   "cell_type": "code",
   "execution_count": null,
   "metadata": {
    "collapsed": false,
    "deletable": true,
    "editable": true
   },
   "outputs": [],
   "source": [
    "result"
   ]
  },
  {
   "cell_type": "markdown",
   "metadata": {
    "deletable": true,
    "editable": true
   },
   "source": [
    "# Interpolation at the poles\n",
    "\n",
    "Currently this results in a qhull error. Apparently, there are no cells that reach the poles. We will fill these using Lutz's algorithm.\n",
    "\n",
    "    ; at-pole boundary conditions\n",
    "    for iq=0,n_q-1 do begin\n",
    "    ; pole_bc=0: zero value\n",
    "        if pole_bc[iq] eq 0 then begin\n",
    "            fields[iq,*,0,*]=0.\n",
    "            fields[iq,*,ny_blk-1,*]=0.\n",
    "        endif\n",
    "    ; pole_bc=1: average value that Masha mentioned\n",
    "        if pole_bc[iq] eq 1 then begin\n",
    "            for iz=0,nz_blk-1 do begin\n",
    "                fields[iq,*,0,iz]=total(fields[iq,0:nx_blk-2,1,iz])/(nx_blk-1)\n",
    "                fields[iq,*,ny_blk-1,iz]=total(fields[iq,0:nx-2,ny_blk-2,iz])/(nx_blk-1)\n",
    "            endfor\n",
    "        endif\n",
    "    ; pole_bc=2: no-derivative \n",
    "        if pole_bc[iq] eq 2 then begin\n",
    "                fields[iq,*,0,*]       =fields[iq,*,1,*]\n",
    "                fields[iq,*,ny_blk-1,*]=fields[iq,*,ny_blk-2,*]\n",
    "        endif\n",
    "    endfor\n",
    "    "
   ]
  },
  {
   "cell_type": "markdown",
   "metadata": {
    "collapsed": true,
    "deletable": true,
    "editable": true
   },
   "source": [
    "Variable polar boundary coditions\n",
    "\n",
    "    Variable          pole_bc\n",
    "    T_n       1\n",
    "    Vn_Lon       2\n",
    "    Vn_Lat       2\n",
    "    rho(O)       1\n",
    "    rho(NO)       1\n",
    "    rho(N4S)       1\n",
    "    HE       1\n",
    "    N_e       1\n",
    "    T_e       1\n",
    "    T_i       1\n",
    "    TEC       1\n",
    "    rho(O2)       1\n",
    "    O2P_ELD       1\n",
    "    Omega       1\n",
    "    PHI       1\n",
    "    Vi_Lon       2\n",
    "    Vi_Lat       2\n",
    "    Vi_IP       1\n",
    "    N(O+)       1\n",
    "    N(N2+)       1\n",
    "    N(N+)       1\n",
    "    N(NO+)       1\n",
    "    SIGMA_PED       1\n",
    "    SIGMA_HAL       1\n",
    "    DEN       1\n",
    "    QJOULE       1\n",
    "    Z       1\n",
    "    ZG       1\n",
    "    O_N2       1\n",
    "    QJOULE_INTEG       1\n",
    "    EFLUX       1\n",
    "    HMF2       1\n",
    "    NMF2       1\n",
    "    N2D_ELD       1\n",
    "    O2N       1\n",
    "    N2N       1\n",
    "    T_lbc       1\n",
    "    Vlbc_Lon       2\n",
    "    Vlbc_Lat       2\n",
    "    TN_lbc       1\n",
    "    VN,lbc_Lon       2\n",
    "    VN,lbc_Lat       2"
   ]
  },
  {
   "cell_type": "code",
   "execution_count": null,
   "metadata": {
    "collapsed": false,
    "deletable": true,
    "editable": true
   },
   "outputs": [],
   "source": [
    "import pandas as pd"
   ]
  },
  {
   "cell_type": "code",
   "execution_count": null,
   "metadata": {
    "collapsed": true,
    "deletable": true,
    "editable": true
   },
   "outputs": [],
   "source": [
    "import numpy as np"
   ]
  },
  {
   "cell_type": "code",
   "execution_count": null,
   "metadata": {
    "collapsed": false,
    "deletable": true,
    "editable": true
   },
   "outputs": [],
   "source": [
    "from tiegcm import TIEGCM, Point3D, Point4D, Slice_key4D, ColumnSlice4D, ColumnSlice3D"
   ]
  },
  {
   "cell_type": "code",
   "execution_count": null,
   "metadata": {
    "collapsed": true,
    "deletable": true,
    "editable": true
   },
   "outputs": [],
   "source": [
    "from util import average_longitude"
   ]
  },
  {
   "cell_type": "code",
   "execution_count": null,
   "metadata": {
    "collapsed": true,
    "deletable": true,
    "editable": true
   },
   "outputs": [],
   "source": [
    "from tiegcm import TIEGCM\n",
    "\n",
    "test_file = \"sample_data/jasoon_shim_052317_IT_10/out/s001.nc\"\n",
    "tiegcm = TIEGCM(test_file)"
   ]
  },
  {
   "cell_type": "code",
   "execution_count": null,
   "metadata": {
    "collapsed": true,
    "deletable": true,
    "editable": true
   },
   "outputs": [],
   "source": [
    "from scipy.spatial import kdtree\n",
    "\n",
    "from scipy.interpolate import LinearNDInterpolator\n",
    "time = 3.5"
   ]
  },
  {
   "cell_type": "code",
   "execution_count": null,
   "metadata": {
    "collapsed": true,
    "deletable": true,
    "editable": true
   },
   "outputs": [],
   "source": [
    "z_max = tiegcm.z.max()\n",
    "z_test = 1.1*z_max\n",
    "p4 = Point4D(time, z_test, 20.5, .5)\n",
    "\n",
    "column_slicer = tiegcm.get_column_slicer_4D(p4)\n",
    "z_column, lat_column, lon_column = tiegcm.get_3D_column(column_slicer)\n",
    "\n",
    "time_index = column_slicer.time.start"
   ]
  },
  {
   "cell_type": "code",
   "execution_count": null,
   "metadata": {
    "collapsed": true,
    "deletable": true,
    "editable": true
   },
   "outputs": [],
   "source": [
    "z = tiegcm.z[time_index, -1, :, :]\n",
    "lat = tiegcm.lat_[-1]\n",
    "lon = tiegcm.lon_[-1]\n",
    "\n",
    "outer_points = np.array(zip(z.ravel()/z.max(), lat.ravel(), lon.ravel()))\n",
    "\n",
    "tree = scipy.spatial.KDTree(outer_points)\n",
    "\n",
    "z_test = 1.1*tiegcm.z[time_index, -1, :, :].max() # high altitude test\n",
    "\n",
    "p4 = Point4D(time, z_test, 20.5, .5)\n",
    "p = Point3D(*p4[1:])\n",
    "\n",
    "distances, vertices = tree.query(p, p = 1, k = 3)\n",
    "\n",
    "coord_indices = np.array(zip(*np.unravel_index(vertices, z.shape)))\n",
    "\n",
    "lat_indices, lon_indices = coord_indices[:,0], coord_indices[:,1]\n",
    "\n",
    "lnd_lat = LinearNDInterpolator(tree.data[vertices][:,1:], tiegcm.lat_[-1][lat_indices, lon_indices])\n",
    "lnd_lon = LinearNDInterpolator(tree.data[vertices][:,1:], tiegcm.lon_[-1][lat_indices, lon_indices])\n",
    "lnd_z = LinearNDInterpolator(tree.data[vertices][:,1:], tiegcm.z[time_index,-1, lat_indices, lon_indices])\n",
    "assert (float(lnd_lat(p[1:])) == p.latitude)\n",
    "assert (float(lnd_lon(p[1:])) == p.longitude)"
   ]
  },
  {
   "cell_type": "code",
   "execution_count": null,
   "metadata": {
    "collapsed": false,
    "deletable": true,
    "editable": true
   },
   "outputs": [],
   "source": [
    "zz_top = z_column[:,-1,:,:]"
   ]
  },
  {
   "cell_type": "code",
   "execution_count": null,
   "metadata": {
    "collapsed": false,
    "deletable": true,
    "editable": true
   },
   "outputs": [],
   "source": [
    "assert zz_top.min() <= lnd_z(p[1:]) <= zz_top.max()"
   ]
  },
  {
   "cell_type": "markdown",
   "metadata": {
    "deletable": true,
    "editable": true
   },
   "source": [
    "compare with column"
   ]
  },
  {
   "cell_type": "code",
   "execution_count": null,
   "metadata": {
    "collapsed": false,
    "deletable": true,
    "editable": true
   },
   "outputs": [],
   "source": [
    "pd.Series(column_slicer._asdict()).to_frame().T"
   ]
  },
  {
   "cell_type": "code",
   "execution_count": null,
   "metadata": {
    "collapsed": false,
    "deletable": true,
    "editable": true
   },
   "outputs": [],
   "source": [
    "tiegcm.z[time_index,-1,lat_indices, lon_indices]"
   ]
  },
  {
   "cell_type": "code",
   "execution_count": null,
   "metadata": {
    "collapsed": false,
    "deletable": true,
    "editable": true
   },
   "outputs": [],
   "source": [
    "tiegcm.z[time_index,-1,:,:].min(), tiegcm.z[time_index,-1,:,:].max()"
   ]
  },
  {
   "cell_type": "code",
   "execution_count": null,
   "metadata": {
    "collapsed": false,
    "deletable": true,
    "editable": true
   },
   "outputs": [],
   "source": [
    "tree.data[vertices][:,1:]"
   ]
  },
  {
   "cell_type": "code",
   "execution_count": null,
   "metadata": {
    "collapsed": false,
    "deletable": true,
    "editable": true
   },
   "outputs": [],
   "source": [
    "z_column.shape, lat_column.shape, lon_column.shape"
   ]
  },
  {
   "cell_type": "code",
   "execution_count": null,
   "metadata": {
    "collapsed": false,
    "deletable": true,
    "editable": true
   },
   "outputs": [],
   "source": [
    "lat_column[-1], lon_column[-1]"
   ]
  },
  {
   "cell_type": "code",
   "execution_count": null,
   "metadata": {
    "collapsed": false,
    "deletable": true,
    "editable": true
   },
   "outputs": [],
   "source": [
    "tiegcm.z[time_index, -1, :, :].max()"
   ]
  },
  {
   "cell_type": "code",
   "execution_count": null,
   "metadata": {
    "collapsed": true,
    "deletable": true,
    "editable": true
   },
   "outputs": [],
   "source": [
    "height_index = -1\n",
    "\n",
    "norm = tiegcm.z[time_index, height_index, :, :].max()"
   ]
  },
  {
   "cell_type": "code",
   "execution_count": null,
   "metadata": {
    "code_folding": [
     1,
     5,
     7,
     11,
     14
    ],
    "collapsed": false,
    "deletable": true,
    "editable": true
   },
   "outputs": [],
   "source": [
    "data = [go.Surface( z=tiegcm.z[time_index, height_index, :, :]/norm,\n",
    "                    x=tiegcm.lon,\n",
    "                    y=tiegcm.lat,\n",
    "                    opacity = .9,\n",
    "                   name = 'max_height'\n",
    "                    ),\n",
    "        go.Surface( z=z_column[0, height_index, :, :]/norm,\n",
    "                    x=lon_column[height_index],\n",
    "                    y = lat_column[height_index],\n",
    "                    opacity = 1,\n",
    "                   name = 'column_height',\n",
    "                    ),\n",
    "        go.Scatter3d(x = [p.longitude], y =[ p.latitude],z = [p.height/norm], name = 'query', mode = 'markers'),\n",
    "        go.Scatter3d(x = [lon[c[0], c[1]] for c in coord_indices], \n",
    "                     y = [lat[c[0], c[1]] for c in coord_indices], \n",
    "                     z = tiegcm.z[time_index,height_index, lat_indices, lon_indices]/norm, mode = 'markers')\n",
    "]\n",
    "\n",
    "iplot(data)"
   ]
  },
  {
   "cell_type": "code",
   "execution_count": null,
   "metadata": {
    "collapsed": false,
    "deletable": true,
    "editable": true
   },
   "outputs": [],
   "source": [
    "p, time"
   ]
  },
  {
   "cell_type": "code",
   "execution_count": null,
   "metadata": {
    "collapsed": false,
    "deletable": true,
    "editable": true
   },
   "outputs": [],
   "source": [
    "tiegcm.time_interpolate_high_altitude(p, 'Z', time)"
   ]
  },
  {
   "cell_type": "markdown",
   "metadata": {
    "deletable": true,
    "editable": true
   },
   "source": [
    "# Scale height\n",
    "\n",
    "Scale height given by \n",
    "\n",
    "$H(h) = KT_{top}/M_xg(h)$\n",
    "\n",
    "$g(h) = g_0(r_e/(r_e+h))^2$\n",
    "\n",
    "$g_0 = ?$"
   ]
  },
  {
   "cell_type": "code",
   "execution_count": null,
   "metadata": {
    "collapsed": false,
    "deletable": true,
    "editable": true
   },
   "outputs": [],
   "source": [
    "p"
   ]
  },
  {
   "cell_type": "code",
   "execution_count": null,
   "metadata": {
    "collapsed": false,
    "deletable": true,
    "editable": true
   },
   "outputs": [],
   "source": [
    "def scale_height(self, p, time, variable):\n",
    "    print variable\n",
    "    T = self.time_interpolate_high_altitude(p, 'TN', time)\n",
    "    return T\n",
    "scale_height(tiegcm, p, time, 'O2')"
   ]
  },
  {
   "cell_type": "code",
   "execution_count": null,
   "metadata": {
    "collapsed": true,
    "deletable": true,
    "editable": true
   },
   "outputs": [],
   "source": [
    "tn = tiegcm.rootgrp.variables['TN']"
   ]
  },
  {
   "cell_type": "code",
   "execution_count": null,
   "metadata": {
    "collapsed": false,
    "deletable": true,
    "editable": true
   },
   "outputs": [],
   "source": [
    "tn.__array__().max()"
   ]
  },
  {
   "cell_type": "markdown",
   "metadata": {
    "collapsed": true,
    "deletable": true,
    "editable": true
   },
   "source": [
    "## Interpolator Call Graph\n"
   ]
  },
  {
   "cell_type": "markdown",
   "metadata": {
    "deletable": true,
    "editable": true
   },
   "source": [
    "### time_interpolate(point, time)\n",
    "* retrieves slice_key corresponding to point,time\n",
    "* scales height down using self.z_scale\n",
    "* wraps longitude into valid range\n",
    "* calls `time_interpolators[slice_key](p, time)`\n",
    "\n",
    "### self.time_interpolators[slice_key]\n",
    "* a subclass of defaultdict\n",
    "* if slice_key is not found: calls self.create_3Dtime_interpolator(slice_key)\n",
    "* stores result"
   ]
  },
  {
   "cell_type": "markdown",
   "metadata": {
    "deletable": true,
    "editable": true
   },
   "source": [
    "slice_key is a 4D slice that looks like this"
   ]
  },
  {
   "cell_type": "code",
   "execution_count": null,
   "metadata": {
    "code_folding": [
     0
    ],
    "collapsed": false,
    "deletable": true,
    "editable": true
   },
   "outputs": [],
   "source": [
    "pd.Series(dict(time = (slice, (8,11, None)), \n",
    "               height = (slice, (None, None, None)),\n",
    "               latitude = (slice, (35, 37, None)),\n",
    "               longitude = (slice, (65, 67, None)),\n",
    "               variable = 'Z'\n",
    "              )).to_frame().T"
   ]
  },
  {
   "cell_type": "markdown",
   "metadata": {
    "deletable": true,
    "editable": true
   },
   "source": [
    "### create_3Dtime_interpolator\n",
    "* takes a 4d slice key and returns a TimeInterpolator object\n",
    "* constructs two 3D interpolators corresponding to two time steps: calls self.get_3D_interpolator(slice_key, i) i $\\in$ [0,1]\n",
    "* returns a TimeInterpolator(interpolators)\n",
    "\n",
    "### get_3D_interpolator(slice_key, i = 0)\n",
    "* retrieves spatial data corresponding to time slice \n",
    "* z_column, lat_column, lon_column, i\n",
    "\n",
    "### get_delaunay_3D\n",
    "* scales the z_column by self.z_scale\n",
    "* martials the vertices into points\n",
    "* creates an instance of Delaunay(points)"
   ]
  },
  {
   "cell_type": "markdown",
   "metadata": {
    "deletable": true,
    "editable": true
   },
   "source": [
    "## Cartesian interpolation\n",
    "\n",
    "We need to convert the positions from spherical to cartesian in two place:\n",
    "* time_interpolate\n",
    "* get_delaunay_3D\n",
    "\n",
    "We may also need the inverse transformation for testing"
   ]
  },
  {
   "cell_type": "code",
   "execution_count": null,
   "metadata": {
    "collapsed": true,
    "deletable": true,
    "editable": true
   },
   "outputs": [],
   "source": [
    "from collections import namedtuple"
   ]
  },
  {
   "cell_type": "code",
   "execution_count": null,
   "metadata": {
    "collapsed": false,
    "deletable": true,
    "editable": true
   },
   "outputs": [],
   "source": [
    "Point3DCartesian = namedtuple(\"Point3DCartesian\", ['x','y','z'])\n",
    "Point3DSpherical = namedtuple(\"Point3DSpherical\", ['r','theta','phi'])"
   ]
  },
  {
   "cell_type": "code",
   "execution_count": null,
   "metadata": {
    "collapsed": true,
    "deletable": true,
    "editable": true
   },
   "outputs": [],
   "source": [
    "from tiegcm import geo_to_spherical, spherical_to_cartesian, geo_to_cartesian"
   ]
  },
  {
   "cell_type": "code",
   "execution_count": null,
   "metadata": {
    "code_folding": [],
    "collapsed": false,
    "deletable": true,
    "editable": true
   },
   "outputs": [],
   "source": [
    "geo_to_cartesian(Point3D(0, 90, 0))"
   ]
  },
  {
   "cell_type": "markdown",
   "metadata": {
    "deletable": true,
    "editable": true
   },
   "source": [
    "for $ r \\in [0, \\inf), \\theta \\in [0, \\pi], \\phi \\in [0, 2\\pi) $\n",
    "$$ x = r sin \\theta cos \\phi $$\n",
    "\n",
    "$$ y = r sin \\theta sin \\phi $$\n",
    "\n",
    "$$ z = r cos \\theta $$\n"
   ]
  },
  {
   "cell_type": "code",
   "execution_count": null,
   "metadata": {
    "collapsed": false,
    "deletable": true,
    "editable": true
   },
   "outputs": [],
   "source": [
    "print 'lat in', tiegcm.lat.min(), tiegcm.lat.max()\n",
    "print 'lon in', tiegcm.lon.min(), tiegcm.lon.max()"
   ]
  },
  {
   "cell_type": "code",
   "execution_count": null,
   "metadata": {
    "collapsed": false,
    "deletable": true,
    "editable": true
   },
   "outputs": [],
   "source": [
    "npoints = 10\n",
    "h = np.linspace(0, 5, npoints)\n",
    "lat = np.linspace(-25, 90, npoints)\n",
    "lon = np.linspace(-30, 30, npoints)\n",
    "geo = Point3D(h,lat,lon)"
   ]
  },
  {
   "cell_type": "code",
   "execution_count": null,
   "metadata": {
    "code_folding": [],
    "collapsed": false,
    "deletable": true,
    "editable": true
   },
   "outputs": [],
   "source": [
    "pd.concat([pd.DataFrame.from_dict(geo._asdict()),\n",
    "           pd.DataFrame.from_dict(geo_to_spherical(geo)._asdict()),\n",
    "           pd.DataFrame.from_dict(geo_to_cartesian(geo)._asdict()),], axis = 1)"
   ]
  },
  {
   "cell_type": "markdown",
   "metadata": {
    "deletable": true,
    "editable": true
   },
   "source": [
    "# Wrap error"
   ]
  },
  {
   "cell_type": "code",
   "execution_count": 11,
   "metadata": {
    "collapsed": false,
    "deletable": true,
    "editable": true
   },
   "outputs": [],
   "source": [
    "from tiegcm.tiegcm import TIEGCM\n",
    "import numpy.ma as ma\n",
    "from util import boundary_conditions\n",
    "\n",
    "test_file = \"sample_data/jasoon_shim_052317_IT_10/out/s001.nc\"\n",
    "tiegcm = TIEGCM(test_file)"
   ]
  },
  {
   "cell_type": "code",
   "execution_count": null,
   "metadata": {
    "collapsed": false,
    "deletable": true,
    "editable": true
   },
   "outputs": [],
   "source": [
    "ne = tiegcm.rootgrp.variables['NE'].__array__()"
   ]
  },
  {
   "cell_type": "code",
   "execution_count": null,
   "metadata": {
    "collapsed": true,
    "deletable": true,
    "editable": true
   },
   "outputs": [],
   "source": [
    "tn = tiegcm.rootgrp.variables['TN'].__array__()"
   ]
  },
  {
   "cell_type": "code",
   "execution_count": null,
   "metadata": {
    "code_folding": [],
    "collapsed": false,
    "deletable": true,
    "editable": true
   },
   "outputs": [],
   "source": [
    "if tn[:,-1,:,:].mask.all():\n",
    "    tn[:,-1,:,:] = tn[:,-2,:,:].data"
   ]
  },
  {
   "cell_type": "code",
   "execution_count": null,
   "metadata": {
    "collapsed": false,
    "deletable": true,
    "editable": true
   },
   "outputs": [],
   "source": [
    "tn.filled(np.nan)"
   ]
  },
  {
   "cell_type": "code",
   "execution_count": null,
   "metadata": {
    "collapsed": false,
    "deletable": true,
    "editable": true
   },
   "outputs": [],
   "source": [
    "ne.max()"
   ]
  },
  {
   "cell_type": "code",
   "execution_count": null,
   "metadata": {
    "collapsed": false,
    "deletable": true,
    "editable": true
   },
   "outputs": [],
   "source": [
    "tn.max()"
   ]
  },
  {
   "cell_type": "code",
   "execution_count": null,
   "metadata": {
    "collapsed": false,
    "deletable": true,
    "editable": true
   },
   "outputs": [],
   "source": [
    "tn.compress(~tn.mask.ravel()).shape"
   ]
  },
  {
   "cell_type": "code",
   "execution_count": null,
   "metadata": {
    "collapsed": false,
    "deletable": true,
    "editable": true
   },
   "outputs": [],
   "source": [
    "tiegcm.set_variable_boundary_condition('TN',verbose = True)"
   ]
  },
  {
   "cell_type": "code",
   "execution_count": null,
   "metadata": {
    "collapsed": false,
    "deletable": true,
    "editable": true
   },
   "outputs": [],
   "source": [
    "test_file = \"sample_data/jasoon_shim_052317_IT_10/out/s001.nc\"\n",
    "tiegcm = TIEGCM(test_file)"
   ]
  },
  {
   "cell_type": "code",
   "execution_count": null,
   "metadata": {
    "collapsed": false,
    "deletable": true,
    "editable": true
   },
   "outputs": [],
   "source": [
    "z_max = tiegcm.z.max()\n",
    "z_test = 1.1*z_max\n",
    "\n",
    "point = Point3D(z_test, -20.5, .5)\n",
    "point2 = Point3D(2*z_test, -20.5, .5)\n",
    "variable_name = 'DEN'\n",
    "time = 3.5\n",
    "\n",
    "den = tiegcm.time_interpolate(point, variable_name, time)\n",
    "den"
   ]
  },
  {
   "cell_type": "code",
   "execution_count": null,
   "metadata": {
    "collapsed": false,
    "deletable": true,
    "editable": true
   },
   "outputs": [],
   "source": [
    "from tiegcm.util import scale_height, gravity\n",
    "\n",
    "T = tiegcm.time_interpolate(point, 'TN', time) # [K]\n",
    "\n",
    "H_oxygen = scale_height(T, 0, 16)\n",
    "H_oxygen # [m]"
   ]
  },
  {
   "cell_type": "markdown",
   "metadata": {
    "deletable": true,
    "editable": true
   },
   "source": [
    "### Boundary height"
   ]
  },
  {
   "cell_type": "code",
   "execution_count": null,
   "metadata": {
    "collapsed": false,
    "deletable": true,
    "editable": true
   },
   "outputs": [],
   "source": [
    "z_bndy = tiegcm.time_interpolate(point, 'Z', time) \n",
    "point3 = Point3D(1.0001*z_bndy, -20.5, .5)\n",
    "print point3"
   ]
  },
  {
   "cell_type": "markdown",
   "metadata": {
    "deletable": true,
    "editable": true
   },
   "source": [
    "### Mixing ratio\n",
    "\n",
    "In meteorology, mixing ratio usually is defined as the mass of a constituent mi divided by the total mass of all other constituents in a mixture.\n",
    "\n",
    "$$ mmr = m_i/(m_{tot} - m_i) $$\n",
    "\n",
    "Therefore, \n",
    "\n",
    "$$ m_i = mmr(m_{tot} - m_i) = mmr \\cdot m_{tot} - mmr \\cdot m_i $$\n",
    "$$ m_i(1 + mmr) = mmr \\cdot m_{tot} $$\n",
    "$$ m_i = mmr \\cdot m_{tot}/(1+mmr) $$"
   ]
  },
  {
   "cell_type": "markdown",
   "metadata": {
    "deletable": true,
    "editable": true
   },
   "source": [
    "### Mass density of molecular oxygen"
   ]
  },
  {
   "cell_type": "code",
   "execution_count": null,
   "metadata": {
    "collapsed": false,
    "deletable": true,
    "editable": true
   },
   "outputs": [],
   "source": [
    "mmr_o = tiegcm.time_interpolate(point, 'O1', time)\n",
    "\n",
    "den_o = mmr_o*den/(1+mmr_o)\n",
    "den_o, den"
   ]
  },
  {
   "cell_type": "code",
   "execution_count": null,
   "metadata": {
    "collapsed": true,
    "deletable": true,
    "editable": true
   },
   "outputs": [],
   "source": [
    "molecular_mass = dict(O1 = 16, O2 = 32, N2 = 28)"
   ]
  },
  {
   "cell_type": "code",
   "execution_count": null,
   "metadata": {
    "collapsed": false,
    "deletable": true,
    "editable": true
   },
   "outputs": [],
   "source": [
    "molecular_mass"
   ]
  },
  {
   "cell_type": "code",
   "execution_count": null,
   "metadata": {
    "collapsed": false,
    "deletable": true,
    "editable": true
   },
   "outputs": [],
   "source": [
    "point"
   ]
  },
  {
   "cell_type": "markdown",
   "metadata": {
    "collapsed": true,
    "deletable": true,
    "editable": true
   },
   "source": [
    "# Mass density at any height h\n",
    "\n",
    "$$ g = g_0 (r_E/(r_E+h))^2 $$\n",
    "\n",
    "$$ H_X = kT^{bndy}/M_Xg $$\n",
    "\n",
    "$$ n_X(h) = n_X^{bndy}\\times \\exp((h^{bndy}-h)/H_X) [m^{-3}] $$\n",
    "\n",
    "$$ \\rho(h) = 1.66053 \\times 10^{-27} \\times ( 16 \\times n_0(h)+ 32 \\times n_{O_2}(h) + 28 \\times n_{N_2}(h) ) [kg/m^3]$$ \n"
   ]
  },
  {
   "cell_type": "code",
   "execution_count": null,
   "metadata": {
    "collapsed": false,
    "deletable": true,
    "editable": true
   },
   "outputs": [],
   "source": [
    "density_tot = tiegcm.time_interpolate(point, 'DEN', time) # total mass density\n",
    "density_tot"
   ]
  },
  {
   "cell_type": "code",
   "execution_count": null,
   "metadata": {
    "collapsed": false,
    "deletable": true,
    "editable": true
   },
   "outputs": [],
   "source": [
    "tiegcm.mass_density(point,time)"
   ]
  },
  {
   "cell_type": "code",
   "execution_count": null,
   "metadata": {
    "collapsed": false,
    "deletable": true,
    "editable": true
   },
   "outputs": [],
   "source": [
    "molecular_mass"
   ]
  },
  {
   "cell_type": "code",
   "execution_count": null,
   "metadata": {
    "collapsed": false,
    "deletable": true,
    "editable": true
   },
   "outputs": [],
   "source": [
    "mass_density(tiegcm, point3, 'O2', time)"
   ]
  },
  {
   "cell_type": "code",
   "execution_count": null,
   "metadata": {
    "collapsed": false,
    "deletable": true,
    "editable": true
   },
   "outputs": [],
   "source": [
    "tiegcm.rootgrp.variables['TN'].shape"
   ]
  },
  {
   "cell_type": "code",
   "execution_count": null,
   "metadata": {
    "collapsed": false,
    "deletable": true,
    "editable": true
   },
   "outputs": [],
   "source": [
    "tiegcm.ilev"
   ]
  },
  {
   "cell_type": "code",
   "execution_count": null,
   "metadata": {
    "collapsed": false,
    "deletable": true,
    "editable": true
   },
   "outputs": [],
   "source": [
    "tiegcm.time_interpolate(point,'N2N', time)"
   ]
  },
  {
   "cell_type": "code",
   "execution_count": null,
   "metadata": {
    "collapsed": false,
    "deletable": true,
    "editable": true
   },
   "outputs": [],
   "source": [
    "np.isclose(1e-11, 1e-12)"
   ]
  },
  {
   "cell_type": "code",
   "execution_count": null,
   "metadata": {
    "collapsed": true,
    "deletable": true,
    "editable": true
   },
   "outputs": [],
   "source": [
    "tiegcm.rootgrp.variables['time']"
   ]
  },
  {
   "cell_type": "markdown",
   "metadata": {
    "deletable": true,
    "editable": true
   },
   "source": [
    "# Global time interpolation\n",
    "\n",
    "TIEGCM files have no date strings in the filename, so interpolation at an arbitrary point in time requires opening the files, extracting and storing their metadata somewhere. In order to handle this, we need a general time interpolator that is responsible for looking at what files are available in a given directory, extracts date-time ranges from them, then opens the appropriate one for interpolation.\n",
    "\n"
   ]
  },
  {
   "cell_type": "code",
   "execution_count": 8,
   "metadata": {
    "collapsed": false,
    "deletable": true,
    "editable": true
   },
   "outputs": [
    {
     "name": "stdout",
     "output_type": "stream",
     "text": [
      "\u001b[34mApr2018_progress_report\u001b[m\u001b[m/  ccmc_interpolator.cpp     setup.py\r\n",
      "\u001b[34mCMakeFiles\u001b[m\u001b[m/               \u001b[34mdist\u001b[m\u001b[m/                     somecode.cpp\r\n",
      "CMakeLists.txt            example.cpp               \u001b[34mtemp\u001b[m\u001b[m/\r\n",
      "CMakeLists.txt.bak        kameleon.cpp              test_bind.py\r\n",
      "LICENSE.txt               kameleon.hpp              \u001b[34mtests\u001b[m\u001b[m/\r\n",
      "MANIFEST                  \u001b[34mlib\u001b[m\u001b[m/                      \u001b[34mtiegcm\u001b[m\u001b[m/\r\n",
      "README.md                 main.cpp                  tiegcm.sublime-project\r\n",
      "TIEGCM.ipynb              nden_cal_at_high_alt.pdf  tiegcm.sublime-workspace\r\n",
      "\u001b[34m__pycache__\u001b[m\u001b[m/              neutral_mass_density.png  util.pyc\r\n",
      "\u001b[34mbin\u001b[m\u001b[m/                      \u001b[34mpybind11\u001b[m\u001b[m/\r\n",
      "\u001b[34mbuild\u001b[m\u001b[m/                    \u001b[34msample_data\u001b[m\u001b[m/\r\n"
     ]
    }
   ],
   "source": [
    "ls"
   ]
  },
  {
   "cell_type": "code",
   "execution_count": 14,
   "metadata": {
    "code_folding": [],
    "collapsed": false,
    "deletable": true,
    "editable": true
   },
   "outputs": [
    {
     "name": "stdout",
     "output_type": "stream",
     "text": [
      "4.12224288242e-15\n"
     ]
    }
   ],
   "source": [
    "import os\n",
    "from tiegcm.tiegcm import Model_Manager\n",
    "from tiegcm.util import time_in_interval\n",
    "\n",
    "mm = Model_Manager('sample_data/jasoon_shim_052317_IT_10/out')\n",
    "\n",
    "mm.files\n",
    "mm.file_times\n",
    "\n",
    "xlat = -8.81183\n",
    "xlon = 161.96608\n",
    "xalt = 361.10342*1e5 #cm\n",
    "time = 3.5 #ut hours\n",
    "\n",
    "density = mm.density(xlat, xlon, xalt, pd.Timestamp('2012-10-01 1:00:02'))\n",
    "print density"
   ]
  },
  {
   "cell_type": "code",
   "execution_count": 11,
   "metadata": {
    "collapsed": false,
    "deletable": true,
    "editable": true
   },
   "outputs": [
    {
     "data": {
      "text/plain": [
       "4.1222428824175376e-15"
      ]
     },
     "execution_count": 11,
     "metadata": {},
     "output_type": "execute_result"
    }
   ],
   "source": [
    "density = mm.density(xlat, xlon, xalt,  pd.Timestamp('2012-10-01 1:00:02'))\n",
    "density"
   ]
  },
  {
   "cell_type": "code",
   "execution_count": 184,
   "metadata": {
    "collapsed": false,
    "deletable": true,
    "editable": true
   },
   "outputs": [
    {
     "data": {
      "text/plain": [
       "0.33333333333333331"
      ]
     },
     "execution_count": 184,
     "metadata": {},
     "output_type": "execute_result"
    }
   ],
   "source": [
    "mm.ut.min()"
   ]
  },
  {
   "cell_type": "code",
   "execution_count": null,
   "metadata": {
    "collapsed": true,
    "deletable": true,
    "editable": true
   },
   "outputs": [],
   "source": []
  }
 ],
 "metadata": {
  "kernelspec": {
   "display_name": "Python 2",
   "language": "python",
   "name": "python2"
  },
  "language_info": {
   "codemirror_mode": {
    "name": "ipython",
    "version": 2
   },
   "file_extension": ".py",
   "mimetype": "text/x-python",
   "name": "python",
   "nbconvert_exporter": "python",
   "pygments_lexer": "ipython2",
   "version": "2.7.13"
  }
 },
 "nbformat": 4,
 "nbformat_minor": 2
}
